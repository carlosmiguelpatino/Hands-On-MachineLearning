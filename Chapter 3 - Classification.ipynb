{
 "cells": [
  {
   "cell_type": "markdown",
   "metadata": {},
   "source": [
    "# Capítulo 3: Clasificación"
   ]
  },
  {
   "cell_type": "code",
   "execution_count": 1,
   "metadata": {
    "collapsed": true
   },
   "outputs": [],
   "source": [
    "from sklearn.datasets import fetch_mldata\n",
    "mnist = fetch_mldata('MNIST original')\n",
    "\n",
    "X, y = mnist['data'], mnist['target']"
   ]
  },
  {
   "cell_type": "code",
   "execution_count": 2,
   "metadata": {},
   "outputs": [
    {
     "data": {
      "text/plain": [
       "(-0.5, 27.5, 27.5, -0.5)"
      ]
     },
     "execution_count": 2,
     "metadata": {},
     "output_type": "execute_result"
    },
    {
     "data": {
      "image/png": "[encoded data removed]",
      "text/plain": [
       "<matplotlib.figure.Figure at 0x7fd10113b9b0>"
      ]
     },
     "metadata": {},
     "output_type": "display_data"
    }
   ],
   "source": [
    "%matplotlib inline \n",
    "import matplotlib \n",
    "import matplotlib.pyplot as plt\n",
    "\n",
    "some_digit = X[36000]\n",
    "some_digit_image = some_digit.reshape(28,28)\n",
    "\n",
    "plt.imshow(some_digit_image, cmap = matplotlib.cm.binary, interpolation = 'nearest')\n",
    "\n",
    "plt.axis('off')"
   ]
  },
  {
   "cell_type": "code",
   "execution_count": 3,
   "metadata": {
    "collapsed": true
   },
   "outputs": [],
   "source": [
    "X_train, X_test, y_train, y_test = X[:60000], X[60000:], y[:60000], y[60000]\n",
    "\n",
    "import numpy as np\n",
    "\n",
    "shuffle_index = np.random.permutation(60000)\n",
    "X_train, y_train = X_train[shuffle_index], y[shuffle_index]"
   ]
  },
  {
   "cell_type": "markdown",
   "metadata": {},
   "source": [
    "## Entrenando un Clasificador Binario"
   ]
  },
  {
   "cell_type": "markdown",
   "metadata": {},
   "source": [
    "El clasificador binario implementado solo reconocerá si el número es o no es un 5"
   ]
  },
  {
   "cell_type": "code",
   "execution_count": 4,
   "metadata": {
    "collapsed": true
   },
   "outputs": [],
   "source": [
    "y_train_5 = (y_train == 5)\n",
    "y_test_5 = (y_test == 5)"
   ]
  },
  {
   "cell_type": "markdown",
   "metadata": {},
   "source": [
    "Crear un clasificador tipo Stochastic Gradient Descent. Este tipo de clasificador puede manejar grandes sets de datos de forma eficiente "
   ]
  },
  {
   "cell_type": "code",
   "execution_count": 5,
   "metadata": {},
   "outputs": [
    {
     "data": {
      "text/plain": [
       "SGDClassifier(alpha=0.0001, average=False, class_weight=None, epsilon=0.1,\n",
       "       eta0=0.0, fit_intercept=True, l1_ratio=0.15,\n",
       "       learning_rate='optimal', loss='hinge', n_iter=5, n_jobs=1,\n",
       "       penalty='l2', power_t=0.5, random_state=42, shuffle=True, verbose=0,\n",
       "       warm_start=False)"
      ]
     },
     "execution_count": 5,
     "metadata": {},
     "output_type": "execute_result"
    }
   ],
   "source": [
    "from sklearn.linear_model import SGDClassifier\n",
    "\n",
    "sgd_clf = SGDClassifier(random_state = 42)\n",
    "sgd_clf.fit(X_train, y_train_5)"
   ]
  },
  {
   "cell_type": "markdown",
   "metadata": {},
   "source": [
    "## Medidas de Desempeño"
   ]
  },
  {
   "cell_type": "markdown",
   "metadata": {},
   "source": [
    "### Medir Precisión Usando Cross-Validation"
   ]
  },
  {
   "cell_type": "code",
   "execution_count": 6,
   "metadata": {},
   "outputs": [
    {
     "data": {
      "text/plain": [
       "array([ 0.96695,  0.95525,  0.94125])"
      ]
     },
     "execution_count": 6,
     "metadata": {},
     "output_type": "execute_result"
    }
   ],
   "source": [
    "from sklearn.model_selection import cross_val_score\n",
    "cross_val_score(sgd_clf, X_train, y_train_5, cv = 3, scoring = 'accuracy')"
   ]
  },
  {
   "cell_type": "markdown",
   "metadata": {},
   "source": [
    "Para tener una medida real del desempeño del clasificador, es importante compararlo con el de un dummy classifier."
   ]
  },
  {
   "cell_type": "code",
   "execution_count": 7,
   "metadata": {
    "collapsed": true
   },
   "outputs": [],
   "source": [
    "from sklearn.base import BaseEstimator\n",
    "\n",
    "class Never5Classifier(BaseEstimator):\n",
    "    def fit(self, X, y = None):\n",
    "        pass\n",
    "    \n",
    "    def predict(self, X):\n",
    "        \n",
    "        return np.zeros((len(X), 1), dtype = bool)"
   ]
  },
  {
   "cell_type": "code",
   "execution_count": 8,
   "metadata": {},
   "outputs": [
    {
     "data": {
      "text/plain": [
       "array([ 0.9086 ,  0.91135,  0.909  ])"
      ]
     },
     "execution_count": 8,
     "metadata": {},
     "output_type": "execute_result"
    }
   ],
   "source": [
    "never_5_clf = Never5Classifier()\n",
    "cross_val_score(never_5_clf, X_train, y_train_5, cv = 3, scoring = 'accuracy')"
   ]
  },
  {
   "cell_type": "markdown",
   "metadata": {},
   "source": [
    "Para sets de datos que tienen clases mucho más frecuentes que otras, la exactitud (accuracy) no es una medida adecuada de desempeño como se puede observar comparando el desempeño del dummy classifier y el clasificador binario. "
   ]
  },
  {
   "cell_type": "markdown",
   "metadata": {},
   "source": [
    "### Matriz de Confusión"
   ]
  },
  {
   "cell_type": "code",
   "execution_count": 9,
   "metadata": {
    "collapsed": true
   },
   "outputs": [],
   "source": [
    "from sklearn.model_selection import cross_val_predict\n",
    "\n",
    "y_train_pred = cross_val_predict(sgd_clf, X_train, y_train_5, cv = 3)"
   ]
  },
  {
   "cell_type": "markdown",
   "metadata": {},
   "source": [
    "La función `cross_val_predict()` hace una cross_validation, pero retorna la predicción hecha en cada grupo en vez de de los puntajes. De esta forma se garantiza que la predicción hecha es hecha por un modelo que nunca vio los datos que está prediciendo durante el entrenamiento."
   ]
  },
  {
   "cell_type": "code",
   "execution_count": 10,
   "metadata": {},
   "outputs": [
    {
     "data": {
      "text/plain": [
       "array([[52841,  1738],\n",
       "       [  993,  4428]])"
      ]
     },
     "execution_count": 10,
     "metadata": {},
     "output_type": "execute_result"
    }
   ],
   "source": [
    "from sklearn.metrics import confusion_matrix\n",
    "\n",
    "confusion_matrix(y_train_5, y_train_pred)"
   ]
  },
  {
   "cell_type": "markdown",
   "metadata": {},
   "source": [
    "Cada fila en la matriz representa una clase, mientras que cada columna representa la clase que se predijo. \n",
    "\n",
    "La primera fila es la clase negativa (imágenes que nos son 5). La esquina superior izquierda muestra las imágenes que fueron clasificadas correctamente como *no 5* (*verdaderos negativos (TN)*)mientras que ls superior derecha muestra las que fueron clasificadas *5* sin serlo (*falsos positivos (FP)*). \n",
    "\n",
    "La segunda fila considera la clase positiva (imágenes que son 5). La esquina inferior izquierda muestra el número de imágenes que fue incorrectamente clasificado como *no 5* (*falsos negativos (FN)*), mientras que la esquina inferior derecha muestra las imágenes que fueron clasificadas correctamente como *5* (*verdaderos positivos (TP)*).\n",
    "\n",
    "**Un clasificador perfecto tendría solo elementos en la diagonal de la matriz.**\n",
    "\n",
    "Para tener la información dada en la matriz de confusión, se definen métricas a partir de esta matriz.\n",
    "\n",
    "En primer lugar, se define la eficacia del modelo prediciendo las clases positivas. Esta métrica se denomina precisión (**precision**):\n",
    "\n",
    "$precision = \\frac{TP}{TP+FP}$\n",
    "\n",
    "\n",
    "Se podría obtener un puntaje perfecto asegurándose que el clasificador hiciera solamente una predicción correcta de todo el set de datos. Como en este caso se estaría ignorando casi todo el set de datos, y aún así se tiene un puntaje perfecto, la precisión se usa en conjunto con el *recall*. Recall es fracción de muestras positivas que son detectadas por el clasificador.\n",
    "\n",
    "$recall = \\frac{TP}{TP+FN}$\n",
    "\n"
   ]
  },
  {
   "cell_type": "markdown",
   "metadata": {},
   "source": [
    "### Precision y Recall"
   ]
  },
  {
   "cell_type": "code",
   "execution_count": 11,
   "metadata": {},
   "outputs": [
    {
     "name": "stdout",
     "output_type": "stream",
     "text": [
      "Puntaje precision: 0.7181316899124229\n",
      "Puntaje recall: 0.8168234643054787\n"
     ]
    }
   ],
   "source": [
    "from sklearn.metrics import precision_score, recall_score\n",
    "\n",
    "print('Puntaje precision: {}'.format(precision_score(y_train_5, y_train_pred)))\n",
    "print('Puntaje recall: {}'.format(recall_score(y_train_5, y_train_pred)))"
   ]
  },
  {
   "cell_type": "markdown",
   "metadata": {},
   "source": [
    "De acuerdo al puntaje de precisión, el clasificador está en lo correcto el 88% de la veces cuando clasifica una instancia como *5*. Adicionalmente, de acuerdo al puntaje de recall, el clasificador solo detecta el 70% de los *5s* en las imágenes.\n",
    "\n",
    "Para unir los puntajes de recall y precisión en una sola métrica, se usa frecuentemente el $F_{1}$ score. El $F_{1}$ score es la media harmónica entre los puntajes de recall y precisión. Esto garantiza que el clasificador solo tendrá un $F_{1}$ score alto si el recall y la precisión también son altos.\n",
    "\n",
    "$F_{1} = 2\\times \\frac{\\text{precision} \\times \\text{recall}}{\\text{precision} + \\text{recall}}$"
   ]
  },
  {
   "cell_type": "code",
   "execution_count": 12,
   "metadata": {},
   "outputs": [
    {
     "data": {
      "text/plain": [
       "0.7643048243721412"
      ]
     },
     "execution_count": 12,
     "metadata": {},
     "output_type": "execute_result"
    }
   ],
   "source": [
    "from sklearn.metrics import f1_score\n",
    "\n",
    "f1_score(y_train_5, y_train_pred)"
   ]
  },
  {
   "cell_type": "markdown",
   "metadata": {},
   "source": [
    "Como se mencionó anteriormente, el $F_{1}$ score favorece a los clasificadores que tienen puntajes altos de recall y precisión. Se debe tener en cuenta que no siempre es deseable tener ambos puntajes altos. Por ejemplo, si se quiere entrenar un clasificador que detecte videos seguros para niños, es mejor que el clasificador rechace muchos videos seguros (bajo recall) pero deje solamente los seguros (alta precisión). Un ejemplo en el caso contrario es un clasificador que detecte un potencial ladrón en imágenes de vigilancia. En este caso se tendrían algunos casos de personas que no son ladrones pero que son identificados como tal (baja precisión), pero la gran mayoría de ladrones serán capturados (alto recall)."
   ]
  },
  {
   "cell_type": "markdown",
   "metadata": {},
   "source": [
    "### Precision/Recall Tradeoff"
   ]
  },
  {
   "cell_type": "markdown",
   "metadata": {},
   "source": [
    "Como los clasificadores dependen de un valor umbral para clasificar una instancia, siempre va a haber un intercambio entre el valor de recall y precisión. \n",
    "\n",
    "Scikit-Learn no provee una forma de manipular el umbral de decisión de un classificador. Sin embargo, se puede usar la función `decision_function()` que retorna el puntaje de cada instancia. Se puede establecer un umbral manualmente usando los puntajes calculados por esa función de decisión.\n",
    "\n",
    "Example for only one image"
   ]
  },
  {
   "cell_type": "code",
   "execution_count": 13,
   "metadata": {
    "collapsed": true
   },
   "outputs": [],
   "source": [
    "threshold = 2000\n",
    "y_scores = sgd_clf.decision_function([some_digit])\n",
    "y_some_digit_pred = (y_scores > threshold)"
   ]
  },
  {
   "cell_type": "markdown",
   "metadata": {},
   "source": [
    "Example using `cross_val_predict()`"
   ]
  },
  {
   "cell_type": "code",
   "execution_count": 14,
   "metadata": {
    "collapsed": true
   },
   "outputs": [],
   "source": [
    "y_scores = cross_val_predict(sgd_clf, X_train, y_train_5, cv = 3, method = 'decision_function')"
   ]
  },
  {
   "cell_type": "markdown",
   "metadata": {},
   "source": [
    "Una vez se tienen los puntajes para cada una de las instancias, es posible calcular la precisión y el recall para cualquier umbral posible. De esta manera se puede ajustar el umbral para valores de recall y precisión deseados para el clasificador"
   ]
  },
  {
   "cell_type": "code",
   "execution_count": 15,
   "metadata": {
    "collapsed": true
   },
   "outputs": [],
   "source": [
    "from sklearn.metrics import precision_recall_curve\n",
    "\n",
    "precisions, recalls, thresholds = precision_recall_curve(y_train_5, y_scores)"
   ]
  },
  {
   "cell_type": "code",
   "execution_count": 16,
   "metadata": {},
   "outputs": [
    {
     "data": {
      "image/png": "[encoded data removed]",
      "text/plain": [
       "<matplotlib.figure.Figure at 0x7fd0f30dd358>"
      ]
     },
     "metadata": {},
     "output_type": "display_data"
    }
   ],
   "source": [
    "def plot_precision_recall_vs_threshold(precisions, recalls, thresholds):\n",
    "    plt.plot(thresholds, precisions[:-1], 'b--', label='Precision')\n",
    "    plt.plot(thresholds, recalls[:-1], 'g--', label='Recall')\n",
    "    plt.xlabel('Threshold')\n",
    "    plt.legend(loc = 'best')\n",
    "    plt.ylim([0,1])\n",
    "    \n",
    "plot_precision_recall_vs_threshold(precisions, recalls, thresholds)"
   ]
  },
  {
   "cell_type": "code",
   "execution_count": 17,
   "metadata": {},
   "outputs": [
    {
     "data": {
      "image/png": "[encoded data removed]",
      "text/plain": [
       "<matplotlib.figure.Figure at 0x7fd0f30bff28>"
      ]
     },
     "metadata": {},
     "output_type": "display_data"
    }
   ],
   "source": [
    "def plot_recall_precision(recalls, precisions):\n",
    "    plt.plot(recalls, precisions)\n",
    "    plt.xlabel('Recall')\n",
    "    plt.ylabel('Precision')\n",
    "    \n",
    "plot_recall_precision(recalls, precisions)"
   ]
  },
  {
   "cell_type": "markdown",
   "metadata": {},
   "source": [
    "### La Curva ROC"
   ]
  },
  {
   "cell_type": "markdown",
   "metadata": {},
   "source": [
    "La curva ROC (*receiving operaring characteristic*) gráfica el recall (o *true positive rate*) contra el *false positive rate* (FPR). El FPR  es la razón de las instancias negativas que son clasificadas incorrectamente como positivas. \n",
    "\n",
    "$FPR = 1 - TNR$ donde TNR es el *true negative rate* o *specificity*. Esto es, la razón de instancias negativas clasificadas correctamente como negativas."
   ]
  },
  {
   "cell_type": "code",
   "execution_count": 18,
   "metadata": {},
   "outputs": [
    {
     "data": {
      "image/png": "[encoded data removed]",
      "text/plain": [
       "<matplotlib.figure.Figure at 0x7fd0f3010f98>"
      ]
     },
     "metadata": {},
     "output_type": "display_data"
    }
   ],
   "source": [
    "from sklearn.metrics import roc_curve\n",
    "\n",
    "fpr, tpr, thresholds = roc_curve(y_train_5, y_scores)\n",
    "\n",
    "def plot_roc_curve(fpr, tpr, label = None):\n",
    "    plt.plot(fpr, tpr, label = label)\n",
    "    plt.plot([0,1], [0,1], 'g--')\n",
    "    plt.axis([0,1,0,1])\n",
    "    plt.xlabel('False Positive Rate')\n",
    "    plt.ylabel('True Positive Rate')\n",
    "    \n",
    "plot_roc_curve(fpr, tpr)"
   ]
  },
  {
   "cell_type": "markdown",
   "metadata": {},
   "source": [
    "La línea punteada de la gráfica representa un clasificador aleatorio. Un buen clasificador logra la mayor separación posible de la línea punteada. Una forma de usar la curva ROC para medir el desempeño de un clasificador es usar el área bajo la curva (AUC). Un clasificador perfecto tendrá un área bajo la curva de uno, mientras que uno aleatorio tendrá un área bajo la curva de 0.5.\n",
    "\n",
    "Como las curvas ROC y Precisión-Recall son similares, se debe tener en cuenta en qué casos es apropiado usar cada una de éstas. Se debe escoger la curva PR **cuando la clase positiva es poco frecuente o cuando importan más los falsos positivos que los falsos negativos. ** Por ejemplo, cuando se observa la curva ROC anterior, uno piensa que el clasificador es bastante bueno. Sin embargo, esto pasa porque hay pocas instancias positivas comparadas con las negativas. Por el contrario, la curva PR muestra que el clasificador puede mejorar."
   ]
  },
  {
   "cell_type": "code",
   "execution_count": 19,
   "metadata": {},
   "outputs": [
    {
     "data": {
      "text/plain": [
       "0.95971164753291782"
      ]
     },
     "execution_count": 19,
     "metadata": {},
     "output_type": "execute_result"
    }
   ],
   "source": [
    "from sklearn.metrics import roc_auc_score\n",
    "\n",
    "roc_auc_score(y_train_5, y_scores)"
   ]
  },
  {
   "cell_type": "markdown",
   "metadata": {},
   "source": [
    "#### Comparación con un RandomForestClassifier"
   ]
  },
  {
   "cell_type": "code",
   "execution_count": 20,
   "metadata": {
    "collapsed": true
   },
   "outputs": [],
   "source": [
    "from sklearn.ensemble import RandomForestClassifier\n",
    "\n",
    "forest_clf = RandomForestClassifier(random_state = 42)\n",
    "\n",
    "y_probas_forest = cross_val_predict(forest_clf, X_train, y_train_5, cv=3, method = 'predict_proba')"
   ]
  },
  {
   "cell_type": "markdown",
   "metadata": {},
   "source": [
    "Algunos clasificadores no tienen una método de `decision_function()`. Sin embargo, estos clasificadores tienen el método `predict_proba()`, el cual contiene una fila por cada instancia y una columna por cada clase. Cada elemento de esta tabla contiene la probabilidad de que dicha instancia sea la clase de la columna. \n",
    "\n",
    "Para el caso del RandomForestClassifier, se usará como puntaje la probabilidad de que la instancia sea positiva."
   ]
  },
  {
   "cell_type": "code",
   "execution_count": 21,
   "metadata": {},
   "outputs": [
    {
     "data": {
      "text/plain": [
       "<matplotlib.legend.Legend at 0x7fd0f22025f8>"
      ]
     },
     "execution_count": 21,
     "metadata": {},
     "output_type": "execute_result"
    },
    {
     "data": {
      "image/png": "[encoded data removed]",
      "text/plain": [
       "<matplotlib.figure.Figure at 0x7fd0f3022ef0>"
      ]
     },
     "metadata": {},
     "output_type": "display_data"
    }
   ],
   "source": [
    "y_scores_forest = y_probas_forest[:, 1]\n",
    "fpr_forest, tpr_forest, thresholds_forest = roc_curve(y_train_5, y_scores_forest)\n",
    "\n",
    "plt.plot(fpr, tpr, 'b:', label = 'SGD')\n",
    "plot_roc_curve(fpr_forest, tpr_forest, 'Random Forest')\n",
    "plt.legend(loc='best')\n"
   ]
  },
  {
   "cell_type": "markdown",
   "metadata": {},
   "source": [
    "En la gráfica se puede ver que el desempeño del clasificador tipo RandomForest es mejor que el SGD, ya que la curva está más cerca de la esquina superior izquierda. Esto también se puede evidenciar en el puntaje ROC AUC."
   ]
  },
  {
   "cell_type": "code",
   "execution_count": 22,
   "metadata": {},
   "outputs": [
    {
     "data": {
      "text/plain": [
       "0.99286574064089494"
      ]
     },
     "execution_count": 22,
     "metadata": {},
     "output_type": "execute_result"
    }
   ],
   "source": [
    "roc_auc_score(y_train_5, y_scores_forest)"
   ]
  },
  {
   "cell_type": "markdown",
   "metadata": {},
   "source": [
    "## Clasificación con Varias Clases"
   ]
  },
  {
   "cell_type": "markdown",
   "metadata": {},
   "source": [
    "Algunos clasificadores soportan clasificar más de dos clases. Para los que soportan unicamente clasificación binaria, existe la posibilidad de entrenar varios clasificadores para diferenciar entre varias clases.\n",
    "\n",
    "El primer método consiste en entrenar un clasificador por cada clase. Una vez entrenados, se toma una instancia y se define su clase de acuerdo al clasificador que arroje el mejor puntaje. Este método se denomina uno contra todos (*one-versus-all* (OvA)).\n",
    "\n",
    "También existe la posibilidad de entrenar un clasificador binario por cada par de clases posible. Este método se denomina uno-contra-uno (*one-versus-one* (OvO)). La ventaja de este método es que los clasificadores sólo tienen que ser entrenados en la parte del dataset que contiene las clases que debe distinguir. Esto supone una ventaja de este método para clasificadores como Support Vector Machine que no escalan muy bien con el tamaño de los datos.\n",
    "\n",
    "Scikit-Learn detecta automáticamente cuando se está intentando usar un clasificador binario para clasificar varias clases. En esos casos, se aplica el método OvA (excepto para el caso de Support Vector Machine en el que se usa OvO)."
   ]
  },
  {
   "cell_type": "code",
   "execution_count": 23,
   "metadata": {},
   "outputs": [
    {
     "data": {
      "text/plain": [
       "array([ 5.])"
      ]
     },
     "execution_count": 23,
     "metadata": {},
     "output_type": "execute_result"
    }
   ],
   "source": [
    "sgd_clf.fit(X_train, y_train)\n",
    "sgd_clf.predict([some_digit])"
   ]
  },
  {
   "cell_type": "markdown",
   "metadata": {},
   "source": [
    "Para el caso anterior, Scikit-Learn entrenó 10 clasificadores distintos y a partir de sus puntajes concluyó que el dígito era un cinco."
   ]
  },
  {
   "cell_type": "code",
   "execution_count": 24,
   "metadata": {},
   "outputs": [
    {
     "data": {
      "text/plain": [
       "array([[ -14940.76744538, -433330.88016455, -353124.83284309,\n",
       "        -108976.73207652, -413876.68836562,   -6694.29456654,\n",
       "        -631513.06640524, -373184.27331413, -795195.82791036,\n",
       "        -724819.55131402]])"
      ]
     },
     "execution_count": 24,
     "metadata": {},
     "output_type": "execute_result"
    }
   ],
   "source": [
    "some_digit_scores = sgd_clf.decision_function([some_digit])\n",
    "some_digit_scores"
   ]
  },
  {
   "cell_type": "markdown",
   "metadata": {},
   "source": [
    "**Nota:** Cuando se entrena un clasificador, la lista de clases se almacena en el atributo `classes_`.\n",
    "\n",
    "En caso de que se quiera forzar el uso de OvA o OvO para algún algoritmo, se puede usar las clases `OneVsOneClassifier` o `OnevsRestClassifier`."
   ]
  },
  {
   "cell_type": "code",
   "execution_count": 25,
   "metadata": {},
   "outputs": [
    {
     "data": {
      "text/plain": [
       "array([ 5.])"
      ]
     },
     "execution_count": 25,
     "metadata": {},
     "output_type": "execute_result"
    }
   ],
   "source": [
    "from sklearn.multiclass import OneVsOneClassifier\n",
    "\n",
    "ovo_clf = OneVsOneClassifier(SGDClassifier(random_state = 42))\n",
    "ovo_clf.fit(X_train, y_train)\n",
    "ovo_clf.predict([some_digit])"
   ]
  },
  {
   "cell_type": "markdown",
   "metadata": {},
   "source": [
    "Para los casos en el que el clasificador soporta clasificación de varias clases, basta con entrenar el modelo directamente."
   ]
  },
  {
   "cell_type": "code",
   "execution_count": 26,
   "metadata": {},
   "outputs": [
    {
     "data": {
      "text/plain": [
       "array([ 5.])"
      ]
     },
     "execution_count": 26,
     "metadata": {},
     "output_type": "execute_result"
    }
   ],
   "source": [
    "forest_clf.fit(X_train, y_train)\n",
    "forest_clf.predict([some_digit])"
   ]
  },
  {
   "cell_type": "code",
   "execution_count": 27,
   "metadata": {},
   "outputs": [
    {
     "data": {
      "text/plain": [
       "array([[ 0.,  0.,  0.,  0.,  0.,  1.,  0.,  0.,  0.,  0.]])"
      ]
     },
     "execution_count": 27,
     "metadata": {},
     "output_type": "execute_result"
    }
   ],
   "source": [
    "forest_clf.predict_proba([some_digit])"
   ]
  },
  {
   "cell_type": "markdown",
   "metadata": {},
   "source": [
    "Para obtener mejores resultados en la clasificación, se pueden hacer un scaling de los datos"
   ]
  },
  {
   "cell_type": "code",
   "execution_count": 28,
   "metadata": {},
   "outputs": [
    {
     "data": {
      "text/plain": [
       "array([ 0.91286743,  0.91019551,  0.90703606])"
      ]
     },
     "execution_count": 28,
     "metadata": {},
     "output_type": "execute_result"
    }
   ],
   "source": [
    "from sklearn.preprocessing import StandardScaler\n",
    "\n",
    "scaler = StandardScaler()\n",
    "\n",
    "X_train_scaled = scaler.fit_transform(X_train.astype(np.float64))\n",
    "cross_val_score(sgd_clf, X_train_scaled, y_train, cv = 3, scoring = 'accuracy')"
   ]
  },
  {
   "cell_type": "markdown",
   "metadata": {},
   "source": [
    "## Error Analysis"
   ]
  },
  {
   "cell_type": "markdown",
   "metadata": {},
   "source": [
    "Analizar errores usando matriz de confusión"
   ]
  },
  {
   "cell_type": "code",
   "execution_count": 29,
   "metadata": {},
   "outputs": [
    {
     "data": {
      "text/plain": [
       "array([[5724,    3,   23,   11,   11,   52,   49,    9,   38,    3],\n",
       "       [   2, 6496,   43,   23,    5,   37,    9,   11,  107,    9],\n",
       "       [  57,   41, 5333,  112,   73,   24,   90,   51,  163,   14],\n",
       "       [  47,   39,  138, 5371,    3,  222,   31,   53,  130,   97],\n",
       "       [  27,   27,   38,    9, 5359,    7,   62,   32,   81,  200],\n",
       "       [  68,   43,   37,  197,   79, 4623,  111,   25,  153,   85],\n",
       "       [  30,   25,   48,    2,   41,   96, 5630,    5,   41,    0],\n",
       "       [  26,   19,   72,   30,   50,   12,    6, 5823,   14,  213],\n",
       "       [  49,  169,   69,  166,   17,  168,   55,   25, 4997,  136],\n",
       "       [  42,   36,   27,   90,  159,   32,    2,  240,   75, 5246]])"
      ]
     },
     "execution_count": 29,
     "metadata": {},
     "output_type": "execute_result"
    }
   ],
   "source": [
    "y_train_pred = cross_val_predict(sgd_clf, X_train_scaled, y_train, cv = 3)\n",
    "conf_mx = confusion_matrix(y_train, y_train_pred)\n",
    "conf_mx"
   ]
  },
  {
   "cell_type": "code",
   "execution_count": 30,
   "metadata": {},
   "outputs": [
    {
     "data": {
      "text/plain": [
       "<matplotlib.image.AxesImage at 0x7fd0f218cc18>"
      ]
     },
     "execution_count": 30,
     "metadata": {},
     "output_type": "execute_result"
    },
    {
     "data": {
      "image/png": "[encoded data removed]",
      "text/plain": [
       "<matplotlib.figure.Figure at 0x7fd0f220c7f0>"
      ]
     },
     "metadata": {},
     "output_type": "display_data"
    }
   ],
   "source": [
    "plt.matshow(conf_mx, cmap=plt.cm.gray)"
   ]
  },
  {
   "cell_type": "markdown",
   "metadata": {},
   "source": [
    "Para obtener más información sobre la clasificación de cada número, es conveniente dividir cada valor en la matriz sobre el número de imágenes en la clase correspondiente. De esta manera es posible comparar tasas de error en lugar de número de errores absoluto, lo que haría que clases que tienen muchas instancias parezcan que tienen un error mayor."
   ]
  },
  {
   "cell_type": "code",
   "execution_count": 31,
   "metadata": {},
   "outputs": [
    {
     "data": {
      "text/plain": [
       "<matplotlib.image.AxesImage at 0x7fd0f20f1f98>"
      ]
     },
     "execution_count": 31,
     "metadata": {},
     "output_type": "execute_result"
    },
    {
     "data": {
      "image/png": "[encoded data removed]",
      "text/plain": [
       "<matplotlib.figure.Figure at 0x7fd0f21c49e8>"
      ]
     },
     "metadata": {},
     "output_type": "display_data"
    }
   ],
   "source": [
    "row_sums = conf_mx.sum(axis = 1, keepdims = True)\n",
    "norm_conf_mx = conf_mx / row_sums\n",
    "\n",
    "np.fill_diagonal(norm_conf_mx, 0)\n",
    "plt.matshow(norm_conf_mx, cmap=plt.cm.gray)"
   ]
  },
  {
   "cell_type": "markdown",
   "metadata": {
    "collapsed": true
   },
   "source": [
    "### Clasificación de Multilabel"
   ]
  },
  {
   "cell_type": "markdown",
   "metadata": {},
   "source": [
    "En ocasiones se le deben asignar varias etiquetas a una sola instancia."
   ]
  },
  {
   "cell_type": "code",
   "execution_count": 32,
   "metadata": {},
   "outputs": [
    {
     "data": {
      "text/plain": [
       "KNeighborsClassifier(algorithm='auto', leaf_size=30, metric='minkowski',\n",
       "           metric_params=None, n_jobs=1, n_neighbors=5, p=2,\n",
       "           weights='uniform')"
      ]
     },
     "execution_count": 32,
     "metadata": {},
     "output_type": "execute_result"
    }
   ],
   "source": [
    "from sklearn.neighbors import KNeighborsClassifier\n",
    "\n",
    "y_train_large = (y_train >= 7)\n",
    "y_train_odd = (y_train % 2 == 1)\n",
    "\n",
    "y_multilabel = np.c_[y_train_large, y_train_odd]\n",
    "\n",
    "knn_clf = KNeighborsClassifier()\n",
    "knn_clf.fit(X_train, y_multilabel)"
   ]
  },
  {
   "cell_type": "code",
   "execution_count": 33,
   "metadata": {},
   "outputs": [
    {
     "data": {
      "text/plain": [
       "array([[False,  True]], dtype=bool)"
      ]
     },
     "execution_count": 33,
     "metadata": {},
     "output_type": "execute_result"
    }
   ],
   "source": [
    "knn_clf.predict([some_digit])"
   ]
  },
  {
   "cell_type": "markdown",
   "metadata": {},
   "source": [
    "El clasificador muestra dos clases de la instancia: la imagen analizada no tiene un número mayor o igual a 7 y es un número impar."
   ]
  },
  {
   "cell_type": "markdown",
   "metadata": {},
   "source": [
    "### Clasificación Multioutput"
   ]
  },
  {
   "cell_type": "markdown",
   "metadata": {},
   "source": [
    "La clasificación multioutput es una clasificación en la que cada label puede tener más de una clase, es decir, no es binario.\n",
    "\n",
    "Un ejemplo de esto es un clasificador que remueva ruido de una imagen. Como para cada pixel el resultado es un valor entre 0 y 255 (intensidad), hay múltiples labels para cada instancia."
   ]
  },
  {
   "cell_type": "code",
   "execution_count": 34,
   "metadata": {
    "collapsed": true
   },
   "outputs": [],
   "source": [
    "noise = np.random.randint(0, 100, (len(X_train), 784))\n",
    "X_train_mod = X_train + noise\n",
    "noise = np.random.randint(0, 100, (len(X_test), 784))\n",
    "X_test_mod = X_test + noise\n",
    "y_train_mod = X_train\n",
    "y_test_mod = X_test"
   ]
  },
  {
   "cell_type": "code",
   "execution_count": 37,
   "metadata": {
    "collapsed": true
   },
   "outputs": [],
   "source": [
    "def plot_digit(data):\n",
    "    image = data.reshape(28, 28)\n",
    "    plt.imshow(image, cmap = matplotlib.cm.binary,\n",
    "               interpolation=\"nearest\")\n",
    "    plt.axis(\"off\")"
   ]
  },
  {
   "cell_type": "code",
   "execution_count": 38,
   "metadata": {},
   "outputs": [
    {
     "data": {
      "image/png": "[encoded data removed]",
      "text/plain": [
       "<matplotlib.figure.Figure at 0x7fd0ea89f400>"
      ]
     },
     "metadata": {},
     "output_type": "display_data"
    }
   ],
   "source": [
    "knn_clf.fit(X_train_mod, y_train_mod)\n",
    "clean_digit = knn_clf.predict([X_test_mod[45]])\n",
    "plot_digit(clean_digit)"
   ]
  },
  {
   "cell_type": "code",
   "execution_count": null,
   "metadata": {
    "collapsed": true
   },
   "outputs": [],
   "source": []
  }
 ],
 "metadata": {
  "kernelspec": {
   "display_name": "Python 3",
   "language": "python",
   "name": "python3"
  },
  "language_info": {
   "codemirror_mode": {
    "name": "ipython",
    "version": 3
   },
   "file_extension": ".py",
   "mimetype": "text/x-python",
   "name": "python",
   "nbconvert_exporter": "python",
   "pygments_lexer": "ipython3",
   "version": "3.5.3"
  }
 },
 "nbformat": 4,
 "nbformat_minor": 2
}

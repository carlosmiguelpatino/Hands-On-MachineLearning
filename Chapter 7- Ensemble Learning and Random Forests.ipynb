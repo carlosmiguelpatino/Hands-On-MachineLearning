{
 "cells": [
  {
   "cell_type": "markdown",
   "metadata": {},
   "source": [
    "# Voting Classifiers\n",
    "\n",
    "A way to improve a set of independent classifiers is to aggregate the prediction of each classsifier and predict the class the gets the most most from all the classifiers. This prediction by majority vote is called a *hard voting* classifier. This classifier made up of multiple classifiers performs better than the best classifier in the ensemble. Furthermore, a *strong learner* (a classifier that has high accuracy) can be constructed by aggregating *weak learner* (classifiers that perform slightly better than guessing) into an ensemble. This performance improvement can be achieved if there are enough weak learners and are sufficiently diverse. \n",
    "\n",
    "The idea behind the improvement achieved with ensembles of classifiers is the law of large numbers. For example, if there is an ensemble that has 1000 classifiers each with an accuracy of 51%, the prediction accuracy using the majority voted class should be around 75%. This happens because the more classifiers there are, the more the ratio of classification gets to 51% instead of fluctuating around 51%. This works as long as the classifiers in the ensemble are independet from each other. That is not always the case, because classifiers tend to make the same type of errors. This is why very different algorithms are used in an ensemble That way, the chance that the algorithms are making different errors is greater, so the accuracy of the ensemble is increased.\n",
    "\n",
    "The code below creates a voting classifier"
   ]
  },
  {
   "cell_type": "code",
   "execution_count": 1,
   "metadata": {
    "collapsed": true
   },
   "outputs": [],
   "source": [
    "from sklearn.datasets import make_moons\n",
    "from sklearn.model_selection import train_test_split\n",
    "\n",
    "X, y = make_moons(n_samples=500, noise=0.30, random_state=42)\n",
    "X_train, X_test, y_train, y_test = train_test_split(X, y, random_state=42)\n",
    "\n",
    "\n",
    "from sklearn.ensemble import RandomForestClassifier\n",
    "from sklearn.ensemble import VotingClassifier\n",
    "from sklearn.linear_model import LogisticRegression\n",
    "from sklearn.svm import SVC\n",
    "\n",
    "log_clf = LogisticRegression()\n",
    "rnd_clf = RandomForestClassifier()\n",
    "svm_clf = SVC()\n",
    "\n",
    "voting_clf = VotingClassifier(\n",
    "    estimators=[('lr', log_clf), ('rf', rnd_clf), ('svc', svm_clf)],\n",
    "    voting='hard')"
   ]
  },
  {
   "cell_type": "code",
   "execution_count": 2,
   "metadata": {},
   "outputs": [
    {
     "name": "stdout",
     "output_type": "stream",
     "text": [
      "LogisticRegression 0.864\n",
      "RandomForestClassifier 0.904\n",
      "SVC 0.888\n",
      "VotingClassifier 0.888\n"
     ]
    }
   ],
   "source": [
    "from sklearn.metrics import accuracy_score\n",
    "\n",
    "for clf in (log_clf, rnd_clf, svm_clf, voting_clf):\n",
    "    clf.fit(X_train, y_train)\n",
    "    y_pred = clf.predict(X_test)\n",
    "    print(clf.__class__.__name__, accuracy_score(y_test, y_pred))"
   ]
  },
  {
   "cell_type": "markdown",
   "metadata": {},
   "source": [
    "If all the classifiers have the method `predict_proba()` to estimate class probabilities, then it is possible to predict the highest class probability using the average from the individual classifiers. This method is called *soft voting* and most of the time performs better than *hard voting* because it gives more weight to votes with high confidence. To use soft voting instead of hard voting, it is enough to set `voting='soft` and make sure all classifiers in the ensemble are capable of estimating probabilities. \n",
    "\n",
    "# Bagging and Pasting\n",
    "\n",
    "An option to get diverse classifiers, different from using different algorithms in the ensemble, is to train a single algorithm using random subsets of the trainig set. When sampling is performed with replacement it is called **bagging**, while **pasting** is when there is sampling without replacement. (For more about with and without replacement visit [Sampling With or Without Replacement](https://www.thoughtco.com/sampling-with-or-without-replacement-3126563))That is, bagging allows training instaces to be sampled several times for the same predictor. \n",
    "\n",
    "Once the data is sampled, the predictots are trained using the subsets and the ensemble makes a prediction aggregating the predictions of all the predictors. The aggregation function generally is the *statistical mode*, or the most frequent prediction. Since the predictor was trained using subsets of the data, it has higher bias than if the whole training set was used. However, the aggregation procedure reduces variance and bias. In general, the ensemble has a lower variance and a similar bias than a single classifier in the ensemble. \n",
    "\n",
    "Since the individual classifiers can be trained and make predictions in parallel, the methods of bagging and pasting scale very well.\n",
    "\n",
    "To use bagging and pasting in Scikit-Learn, the class `BaggingClassifier` should be used. The code below trains 500 Decision Tree classifiers. The number of instances used to train each classifier are determined by the parameter `max_samples` which can be the number of samples of the ratio of samples from the total number of instances. The parameter `bootstrap` is set true by default, so bagging is the default method. If pasting is the method wanted, `bootsrap` should be set to False. Also, the `n_jobs` parameter determines how many cores should be used during training and prediction. If `n_jobs=-1`, all the available cores will be used. The `BaggingClassifier` performs soft voting by default if all the classifiers in the ensemble can estimate class probabilities."
   ]
  },
  {
   "cell_type": "code",
   "execution_count": 3,
   "metadata": {},
   "outputs": [
    {
     "name": "stdout",
     "output_type": "stream",
     "text": [
      "0.912\n"
     ]
    }
   ],
   "source": [
    "from sklearn.ensemble import BaggingClassifier\n",
    "from sklearn.tree import DecisionTreeClassifier\n",
    "\n",
    "bag_clf = BaggingClassifier(\n",
    "    DecisionTreeClassifier(), n_estimators=500,\n",
    "    max_samples=0.5, bootstrap=True, n_jobs=-1\n",
    ")\n",
    "\n",
    "bag_clf.fit(X_train, y_train)\n",
    "y_pred = bag_clf.predict(X_test)\n",
    "\n",
    "from sklearn.metrics import accuracy_score\n",
    "print(accuracy_score(y_test, y_pred))"
   ]
  },
  {
   "cell_type": "markdown",
   "metadata": {},
   "source": [
    "To compare the results, a single Decision Tree is trained."
   ]
  },
  {
   "cell_type": "code",
   "execution_count": 4,
   "metadata": {},
   "outputs": [
    {
     "name": "stdout",
     "output_type": "stream",
     "text": [
      "0.856\n"
     ]
    }
   ],
   "source": [
    "tree_clf = DecisionTreeClassifier(random_state=42)\n",
    "tree_clf.fit(X_train, y_train)\n",
    "y_pred_tree = tree_clf.predict(X_test)\n",
    "print(accuracy_score(y_test, y_pred_tree))"
   ]
  },
  {
   "cell_type": "code",
   "execution_count": 5,
   "metadata": {
    "collapsed": true
   },
   "outputs": [],
   "source": [
    "from matplotlib.colors import ListedColormap\n",
    "import matplotlib.pyplot as plt\n",
    "%matplotlib inline\n",
    "import numpy as np\n",
    "\n",
    "def plot_decision_boundary(clf, X, y, axes=[-1.5, 2.5, -1, 1.5], alpha=0.5, contour=True):\n",
    "    x1s = np.linspace(axes[0], axes[1], 100)\n",
    "    x2s = np.linspace(axes[2], axes[3], 100)\n",
    "    x1, x2 = np.meshgrid(x1s, x2s)\n",
    "    X_new = np.c_[x1.ravel(), x2.ravel()]\n",
    "    y_pred = clf.predict(X_new).reshape(x1.shape)\n",
    "    custom_cmap = ListedColormap(['#fafab0','#9898ff','#a0faa0'])\n",
    "    plt.contourf(x1, x2, y_pred, alpha=0.3, cmap=custom_cmap, linewidth=10)\n",
    "    if contour:\n",
    "        custom_cmap2 = ListedColormap(['#7d7d58','#4c4c7f','#507d50'])\n",
    "        plt.contour(x1, x2, y_pred, cmap=custom_cmap2, alpha=0.8)\n",
    "    plt.plot(X[:, 0][y==0], X[:, 1][y==0], \"yo\", alpha=alpha)\n",
    "    plt.plot(X[:, 0][y==1], X[:, 1][y==1], \"bs\", alpha=alpha)\n",
    "    plt.axis(axes)\n",
    "    plt.xlabel(r\"$x_1$\", fontsize=18)\n",
    "    plt.ylabel(r\"$x_2$\", fontsize=18, rotation=0)"
   ]
  },
  {
   "cell_type": "code",
   "execution_count": 6,
   "metadata": {},
   "outputs": [
    {
     "data": {
      "text/plain": [
       "<matplotlib.text.Text at 0x7f987341ab70>"
      ]
     },
     "execution_count": 6,
     "metadata": {},
     "output_type": "execute_result"
    },
    {
     "data": {
      "image/png": "[encoded data removed]",
      "text/plain": [
       "<matplotlib.figure.Figure at 0x7f9885f6bb38>"
      ]
     },
     "metadata": {},
     "output_type": "display_data"
    }
   ],
   "source": [
    "plt.figure(figsize=(11,4))\n",
    "plt.subplot(121)\n",
    "plot_decision_boundary(tree_clf, X, y)\n",
    "plt.title(\"Decision Tree\", fontsize=14)\n",
    "plt.subplot(122)\n",
    "plot_decision_boundary(bag_clf, X, y)\n",
    "plt.title(\"Decision Trees with Bagging\", fontsize=14)"
   ]
  },
  {
   "cell_type": "markdown",
   "metadata": {},
   "source": [
    "Is seen in the plots above, the decision boundary resulting with bagging should generalize better than the boundary obtained from a single Decision Tree. Comparing pasting and bagging, bagging ends up with a slightly higher bias than pasting. This also means that the individual classifiers end up being less correlated so the ensemble bias is reduced. \n",
    "\n",
    "Bagging results in better models than pasting, but, if time and CPU power are an issue, cross-validation should be used to compare bagging and pasting. \n",
    "\n",
    "## Out-of-Bag Evaluation\n",
    "\n",
    "When bagging is used, some instances can by sampled multiple time for a classifier. Other instances in the datasets may not be sampled by any classifier. In fact, about 37% of the training instances are not sampled for each predictor. These training instances that are not sampled are called *out-of-bag* (oob) instances. \n",
    "\n",
    "Taking into account that each classifier does not use the oob instance during training, these instances can be used to evaluate the classifier. This evaluation can be set automatically by setting `oob_score=True` when creating a Bagging Classifier. "
   ]
  },
  {
   "cell_type": "code",
   "execution_count": 7,
   "metadata": {},
   "outputs": [
    {
     "data": {
      "text/plain": [
       "0.89866666666666661"
      ]
     },
     "execution_count": 7,
     "metadata": {},
     "output_type": "execute_result"
    }
   ],
   "source": [
    "bag_clf = BaggingClassifier(\n",
    "    DecisionTreeClassifier(), n_estimators=500,\n",
    "    bootstrap=True, n_jobs=-1, oob_score=True\n",
    ")\n",
    "\n",
    "bag_clf.fit(X_train, y_train)\n",
    "bag_clf.oob_score_"
   ]
  },
  {
   "cell_type": "code",
   "execution_count": 8,
   "metadata": {},
   "outputs": [
    {
     "data": {
      "text/plain": [
       "0.89600000000000002"
      ]
     },
     "execution_count": 8,
     "metadata": {},
     "output_type": "execute_result"
    }
   ],
   "source": [
    "y_pred = bag_clf.predict(X_test)\n",
    "accuracy_score(y_test, y_pred)"
   ]
  },
  {
   "cell_type": "markdown",
   "metadata": {},
   "source": [
    "**From both values above it can be seen that the evaluation using oob instance is close to the accuracy score using a test set.** \n",
    "\n",
    "Also, the oob decision function for each training instance is available after training the ensemble. When the classifiers in the ensemble can output a prediction probability, the decision function returns the class probabilities for each instance."
   ]
  },
  {
   "cell_type": "code",
   "execution_count": 9,
   "metadata": {},
   "outputs": [
    {
     "data": {
      "text/plain": [
       "array([[ 0.37055838,  0.62944162],\n",
       "       [ 0.39572193,  0.60427807],\n",
       "       [ 1.        ,  0.        ],\n",
       "       [ 0.        ,  1.        ],\n",
       "       [ 0.        ,  1.        ],\n",
       "       [ 0.11      ,  0.89      ],\n",
       "       [ 0.3583815 ,  0.6416185 ],\n",
       "       [ 0.02      ,  0.98      ],\n",
       "       [ 0.99438202,  0.00561798],\n",
       "       [ 0.96808511,  0.03191489],\n",
       "       [ 0.74576271,  0.25423729],\n",
       "       [ 0.00578035,  0.99421965],\n",
       "       [ 0.8       ,  0.2       ],\n",
       "       [ 0.88700565,  0.11299435],\n",
       "       [ 0.97849462,  0.02150538],\n",
       "       [ 0.06010929,  0.93989071],\n",
       "       [ 0.        ,  1.        ],\n",
       "       [ 1.        ,  0.        ],\n",
       "       [ 0.93333333,  0.06666667],\n",
       "       [ 0.98924731,  0.01075269],\n",
       "       [ 0.02173913,  0.97826087],\n",
       "       [ 0.34158416,  0.65841584],\n",
       "       [ 0.9144385 ,  0.0855615 ],\n",
       "       [ 1.        ,  0.        ],\n",
       "       [ 0.97802198,  0.02197802],\n",
       "       [ 0.        ,  1.        ],\n",
       "       [ 0.99465241,  0.00534759],\n",
       "       [ 1.        ,  0.        ],\n",
       "       [ 0.        ,  1.        ],\n",
       "       [ 0.65      ,  0.35      ],\n",
       "       [ 0.        ,  1.        ],\n",
       "       [ 1.        ,  0.        ],\n",
       "       [ 0.005     ,  0.995     ],\n",
       "       [ 0.        ,  1.        ],\n",
       "       [ 0.14507772,  0.85492228],\n",
       "       [ 1.        ,  0.        ],\n",
       "       [ 0.0060241 ,  0.9939759 ],\n",
       "       [ 0.33333333,  0.66666667],\n",
       "       [ 0.        ,  1.        ],\n",
       "       [ 1.        ,  0.        ],\n",
       "       [ 0.20224719,  0.79775281],\n",
       "       [ 0.40853659,  0.59146341],\n",
       "       [ 1.        ,  0.        ],\n",
       "       [ 1.        ,  0.        ],\n",
       "       [ 0.        ,  1.        ],\n",
       "       [ 1.        ,  0.        ],\n",
       "       [ 1.        ,  0.        ],\n",
       "       [ 0.01025641,  0.98974359],\n",
       "       [ 1.        ,  0.        ],\n",
       "       [ 0.00512821,  0.99487179],\n",
       "       [ 0.97752809,  0.02247191],\n",
       "       [ 0.87830688,  0.12169312],\n",
       "       [ 0.97093023,  0.02906977],\n",
       "       [ 0.975     ,  0.025     ],\n",
       "       [ 0.00526316,  0.99473684],\n",
       "       [ 0.03409091,  0.96590909],\n",
       "       [ 0.98342541,  0.01657459],\n",
       "       [ 0.        ,  1.        ],\n",
       "       [ 0.        ,  1.        ],\n",
       "       [ 0.        ,  1.        ],\n",
       "       [ 0.98275862,  0.01724138],\n",
       "       [ 0.81034483,  0.18965517],\n",
       "       [ 0.37837838,  0.62162162],\n",
       "       [ 0.99408284,  0.00591716],\n",
       "       [ 0.        ,  1.        ],\n",
       "       [ 0.71428571,  0.28571429],\n",
       "       [ 1.        ,  0.        ],\n",
       "       [ 0.99462366,  0.00537634],\n",
       "       [ 0.88648649,  0.11351351],\n",
       "       [ 1.        ,  0.        ],\n",
       "       [ 0.64497041,  0.35502959],\n",
       "       [ 0.09659091,  0.90340909],\n",
       "       [ 0.60335196,  0.39664804],\n",
       "       [ 0.86363636,  0.13636364],\n",
       "       [ 0.        ,  1.        ],\n",
       "       [ 0.18817204,  0.81182796],\n",
       "       [ 0.91578947,  0.08421053],\n",
       "       [ 1.        ,  0.        ],\n",
       "       [ 0.        ,  1.        ],\n",
       "       [ 0.99431818,  0.00568182],\n",
       "       [ 0.0052356 ,  0.9947644 ],\n",
       "       [ 0.05681818,  0.94318182],\n",
       "       [ 0.03174603,  0.96825397],\n",
       "       [ 0.31111111,  0.68888889],\n",
       "       [ 1.        ,  0.        ],\n",
       "       [ 0.        ,  1.        ],\n",
       "       [ 0.85167464,  0.14832536],\n",
       "       [ 0.00584795,  0.99415205],\n",
       "       [ 0.        ,  1.        ],\n",
       "       [ 0.        ,  1.        ],\n",
       "       [ 0.27272727,  0.72727273],\n",
       "       [ 1.        ,  0.        ],\n",
       "       [ 0.        ,  1.        ],\n",
       "       [ 0.        ,  1.        ],\n",
       "       [ 0.        ,  1.        ],\n",
       "       [ 0.93684211,  0.06315789],\n",
       "       [ 0.7761194 ,  0.2238806 ],\n",
       "       [ 0.02234637,  0.97765363],\n",
       "       [ 1.        ,  0.        ],\n",
       "       [ 0.20634921,  0.79365079],\n",
       "       [ 0.66850829,  0.33149171],\n",
       "       [ 0.        ,  1.        ],\n",
       "       [ 0.04624277,  0.95375723],\n",
       "       [ 0.5       ,  0.5       ],\n",
       "       [ 1.        ,  0.        ],\n",
       "       [ 0.01123596,  0.98876404],\n",
       "       [ 0.99516908,  0.00483092],\n",
       "       [ 0.22282609,  0.77717391],\n",
       "       [ 0.49411765,  0.50588235],\n",
       "       [ 1.        ,  0.        ],\n",
       "       [ 0.0106383 ,  0.9893617 ],\n",
       "       [ 0.99431818,  0.00568182],\n",
       "       [ 0.29281768,  0.70718232],\n",
       "       [ 0.89637306,  0.10362694],\n",
       "       [ 1.        ,  0.        ],\n",
       "       [ 1.        ,  0.        ],\n",
       "       [ 0.        ,  1.        ],\n",
       "       [ 0.        ,  1.        ],\n",
       "       [ 0.75428571,  0.24571429],\n",
       "       [ 1.        ,  0.        ],\n",
       "       [ 0.01570681,  0.98429319],\n",
       "       [ 1.        ,  0.        ],\n",
       "       [ 1.        ,  0.        ],\n",
       "       [ 1.        ,  0.        ],\n",
       "       [ 0.98870056,  0.01129944],\n",
       "       [ 1.        ,  0.        ],\n",
       "       [ 0.        ,  1.        ],\n",
       "       [ 0.95906433,  0.04093567],\n",
       "       [ 0.99371069,  0.00628931],\n",
       "       [ 0.01282051,  0.98717949],\n",
       "       [ 0.18274112,  0.81725888],\n",
       "       [ 0.94416244,  0.05583756],\n",
       "       [ 0.26767677,  0.73232323],\n",
       "       [ 0.98295455,  0.01704545],\n",
       "       [ 0.        ,  1.        ],\n",
       "       [ 0.00578035,  0.99421965],\n",
       "       [ 0.72131148,  0.27868852],\n",
       "       [ 0.41304348,  0.58695652],\n",
       "       [ 0.43979058,  0.56020942],\n",
       "       [ 0.87301587,  0.12698413],\n",
       "       [ 0.95652174,  0.04347826],\n",
       "       [ 0.06395349,  0.93604651],\n",
       "       [ 0.83240223,  0.16759777],\n",
       "       [ 0.        ,  1.        ],\n",
       "       [ 0.        ,  1.        ],\n",
       "       [ 0.02234637,  0.97765363],\n",
       "       [ 0.98285714,  0.01714286],\n",
       "       [ 1.        ,  0.        ],\n",
       "       [ 1.        ,  0.        ],\n",
       "       [ 0.00568182,  0.99431818],\n",
       "       [ 0.        ,  1.        ],\n",
       "       [ 0.02234637,  0.97765363],\n",
       "       [ 0.00537634,  0.99462366],\n",
       "       [ 1.        ,  0.        ],\n",
       "       [ 1.        ,  0.        ],\n",
       "       [ 0.94857143,  0.05142857],\n",
       "       [ 1.        ,  0.        ],\n",
       "       [ 1.        ,  0.        ],\n",
       "       [ 1.        ,  0.        ],\n",
       "       [ 0.        ,  1.        ],\n",
       "       [ 0.39705882,  0.60294118],\n",
       "       [ 0.26368159,  0.73631841],\n",
       "       [ 0.00549451,  0.99450549],\n",
       "       [ 0.        ,  1.        ],\n",
       "       [ 0.28191489,  0.71808511],\n",
       "       [ 1.        ,  0.        ],\n",
       "       [ 0.99456522,  0.00543478],\n",
       "       [ 0.        ,  1.        ],\n",
       "       [ 1.        ,  0.        ],\n",
       "       [ 0.        ,  1.        ],\n",
       "       [ 0.        ,  1.        ],\n",
       "       [ 0.97790055,  0.02209945],\n",
       "       [ 0.        ,  1.        ],\n",
       "       [ 0.        ,  1.        ],\n",
       "       [ 1.        ,  0.        ],\n",
       "       [ 0.        ,  1.        ],\n",
       "       [ 0.60588235,  0.39411765],\n",
       "       [ 0.88636364,  0.11363636],\n",
       "       [ 0.        ,  1.        ],\n",
       "       [ 1.        ,  0.        ],\n",
       "       [ 0.99459459,  0.00540541],\n",
       "       [ 1.        ,  0.        ],\n",
       "       [ 0.        ,  1.        ],\n",
       "       [ 0.        ,  1.        ],\n",
       "       [ 1.        ,  0.        ],\n",
       "       [ 0.07692308,  0.92307692],\n",
       "       [ 1.        ,  0.        ],\n",
       "       [ 0.01570681,  0.98429319],\n",
       "       [ 0.        ,  1.        ],\n",
       "       [ 1.        ,  0.        ],\n",
       "       [ 0.        ,  1.        ],\n",
       "       [ 0.02366864,  0.97633136],\n",
       "       [ 1.        ,  0.        ],\n",
       "       [ 0.95135135,  0.04864865],\n",
       "       [ 0.81767956,  0.18232044],\n",
       "       [ 0.5828877 ,  0.4171123 ],\n",
       "       [ 0.        ,  1.        ],\n",
       "       [ 0.11956522,  0.88043478],\n",
       "       [ 1.        ,  0.        ],\n",
       "       [ 0.93103448,  0.06896552],\n",
       "       [ 0.97837838,  0.02162162],\n",
       "       [ 1.        ,  0.        ],\n",
       "       [ 0.00558659,  0.99441341],\n",
       "       [ 0.        ,  1.        ],\n",
       "       [ 0.47619048,  0.52380952],\n",
       "       [ 0.83243243,  0.16756757],\n",
       "       [ 0.        ,  1.        ],\n",
       "       [ 0.        ,  1.        ],\n",
       "       [ 0.99494949,  0.00505051],\n",
       "       [ 0.01      ,  0.99      ],\n",
       "       [ 0.00555556,  0.99444444],\n",
       "       [ 0.94708995,  0.05291005],\n",
       "       [ 0.        ,  1.        ],\n",
       "       [ 0.2375    ,  0.7625    ],\n",
       "       [ 0.        ,  1.        ],\n",
       "       [ 1.        ,  0.        ],\n",
       "       [ 0.        ,  1.        ],\n",
       "       [ 0.        ,  1.        ],\n",
       "       [ 0.98963731,  0.01036269],\n",
       "       [ 0.89071038,  0.10928962],\n",
       "       [ 0.98907104,  0.01092896],\n",
       "       [ 0.        ,  1.        ],\n",
       "       [ 0.0923913 ,  0.9076087 ],\n",
       "       [ 1.        ,  0.        ],\n",
       "       [ 0.01785714,  0.98214286],\n",
       "       [ 0.        ,  1.        ],\n",
       "       [ 0.08839779,  0.91160221],\n",
       "       [ 0.99421965,  0.00578035],\n",
       "       [ 0.76767677,  0.23232323],\n",
       "       [ 0.        ,  1.        ],\n",
       "       [ 0.9017341 ,  0.0982659 ],\n",
       "       [ 0.98305085,  0.01694915],\n",
       "       [ 0.24064171,  0.75935829],\n",
       "       [ 0.19354839,  0.80645161],\n",
       "       [ 1.        ,  0.        ],\n",
       "       [ 0.        ,  1.        ],\n",
       "       [ 0.        ,  1.        ],\n",
       "       [ 0.        ,  1.        ],\n",
       "       [ 0.26701571,  0.73298429],\n",
       "       [ 0.94054054,  0.05945946],\n",
       "       [ 0.        ,  1.        ],\n",
       "       [ 1.        ,  0.        ],\n",
       "       [ 0.99473684,  0.00526316],\n",
       "       [ 0.        ,  1.        ],\n",
       "       [ 0.42424242,  0.57575758],\n",
       "       [ 1.        ,  0.        ],\n",
       "       [ 0.        ,  1.        ],\n",
       "       [ 1.        ,  0.        ],\n",
       "       [ 0.        ,  1.        ],\n",
       "       [ 0.        ,  1.        ],\n",
       "       [ 0.09714286,  0.90285714],\n",
       "       [ 0.09659091,  0.90340909],\n",
       "       [ 0.98947368,  0.01052632],\n",
       "       [ 0.02150538,  0.97849462],\n",
       "       [ 1.        ,  0.        ],\n",
       "       [ 0.37704918,  0.62295082],\n",
       "       [ 0.15116279,  0.84883721],\n",
       "       [ 0.54301075,  0.45698925],\n",
       "       [ 0.6035503 ,  0.3964497 ],\n",
       "       [ 0.00543478,  0.99456522],\n",
       "       [ 1.        ,  0.        ],\n",
       "       [ 0.        ,  1.        ],\n",
       "       [ 0.        ,  1.        ],\n",
       "       [ 0.64324324,  0.35675676],\n",
       "       [ 0.        ,  1.        ],\n",
       "       [ 1.        ,  0.        ],\n",
       "       [ 0.22891566,  0.77108434],\n",
       "       [ 0.73913043,  0.26086957],\n",
       "       [ 0.06951872,  0.93048128],\n",
       "       [ 1.        ,  0.        ],\n",
       "       [ 0.77777778,  0.22222222],\n",
       "       [ 0.        ,  1.        ],\n",
       "       [ 0.        ,  1.        ],\n",
       "       [ 0.12941176,  0.87058824],\n",
       "       [ 0.01058201,  0.98941799],\n",
       "       [ 0.        ,  1.        ],\n",
       "       [ 1.        ,  0.        ],\n",
       "       [ 0.90960452,  0.09039548],\n",
       "       [ 0.17553191,  0.82446809],\n",
       "       [ 0.93063584,  0.06936416],\n",
       "       [ 0.00609756,  0.99390244],\n",
       "       [ 0.595     ,  0.405     ],\n",
       "       [ 0.07065217,  0.92934783],\n",
       "       [ 1.        ,  0.        ],\n",
       "       [ 0.76397516,  0.23602484],\n",
       "       [ 0.        ,  1.        ],\n",
       "       [ 1.        ,  0.        ],\n",
       "       [ 0.97802198,  0.02197802],\n",
       "       [ 0.        ,  1.        ],\n",
       "       [ 0.        ,  1.        ],\n",
       "       [ 1.        ,  0.        ],\n",
       "       [ 0.        ,  1.        ],\n",
       "       [ 1.        ,  0.        ],\n",
       "       [ 0.22285714,  0.77714286],\n",
       "       [ 0.99019608,  0.00980392],\n",
       "       [ 1.        ,  0.        ],\n",
       "       [ 0.        ,  1.        ],\n",
       "       [ 0.        ,  1.        ],\n",
       "       [ 0.84023669,  0.15976331],\n",
       "       [ 0.        ,  1.        ],\n",
       "       [ 1.        ,  0.        ],\n",
       "       [ 0.7591623 ,  0.2408377 ],\n",
       "       [ 0.95652174,  0.04347826],\n",
       "       [ 1.        ,  0.        ],\n",
       "       [ 0.73170732,  0.26829268],\n",
       "       [ 0.59562842,  0.40437158],\n",
       "       [ 0.        ,  1.        ],\n",
       "       [ 0.90607735,  0.09392265],\n",
       "       [ 0.        ,  1.        ],\n",
       "       [ 1.        ,  0.        ],\n",
       "       [ 0.84210526,  0.15789474],\n",
       "       [ 1.        ,  0.        ],\n",
       "       [ 1.        ,  0.        ],\n",
       "       [ 0.73076923,  0.26923077],\n",
       "       [ 0.08333333,  0.91666667],\n",
       "       [ 0.47398844,  0.52601156],\n",
       "       [ 0.23809524,  0.76190476],\n",
       "       [ 0.        ,  1.        ],\n",
       "       [ 0.84771574,  0.15228426],\n",
       "       [ 0.85204082,  0.14795918],\n",
       "       [ 0.00537634,  0.99462366],\n",
       "       [ 1.        ,  0.        ],\n",
       "       [ 0.99431818,  0.00568182],\n",
       "       [ 1.        ,  0.        ],\n",
       "       [ 0.        ,  1.        ],\n",
       "       [ 0.03370787,  0.96629213],\n",
       "       [ 0.98235294,  0.01764706],\n",
       "       [ 0.97326203,  0.02673797],\n",
       "       [ 1.        ,  0.        ],\n",
       "       [ 0.48387097,  0.51612903],\n",
       "       [ 1.        ,  0.        ],\n",
       "       [ 0.00568182,  0.99431818],\n",
       "       [ 0.98850575,  0.01149425],\n",
       "       [ 0.02538071,  0.97461929],\n",
       "       [ 1.        ,  0.        ],\n",
       "       [ 1.        ,  0.        ],\n",
       "       [ 1.        ,  0.        ],\n",
       "       [ 0.        ,  1.        ],\n",
       "       [ 0.97354497,  0.02645503],\n",
       "       [ 0.        ,  1.        ],\n",
       "       [ 0.06914894,  0.93085106],\n",
       "       [ 0.        ,  1.        ],\n",
       "       [ 0.        ,  1.        ],\n",
       "       [ 1.        ,  0.        ],\n",
       "       [ 1.        ,  0.        ],\n",
       "       [ 0.        ,  1.        ],\n",
       "       [ 1.        ,  0.        ],\n",
       "       [ 0.00995025,  0.99004975],\n",
       "       [ 1.        ,  0.        ],\n",
       "       [ 0.10695187,  0.89304813],\n",
       "       [ 0.        ,  1.        ],\n",
       "       [ 0.        ,  1.        ],\n",
       "       [ 0.        ,  1.        ],\n",
       "       [ 0.39175258,  0.60824742],\n",
       "       [ 0.07653061,  0.92346939],\n",
       "       [ 0.17837838,  0.82162162],\n",
       "       [ 1.        ,  0.        ],\n",
       "       [ 0.96774194,  0.03225806],\n",
       "       [ 0.22222222,  0.77777778],\n",
       "       [ 0.99462366,  0.00537634],\n",
       "       [ 0.        ,  1.        ],\n",
       "       [ 0.        ,  1.        ],\n",
       "       [ 1.        ,  0.        ],\n",
       "       [ 0.96791444,  0.03208556],\n",
       "       [ 0.36046512,  0.63953488],\n",
       "       [ 0.99378882,  0.00621118],\n",
       "       [ 1.        ,  0.        ],\n",
       "       [ 0.        ,  1.        ],\n",
       "       [ 1.        ,  0.        ],\n",
       "       [ 0.01036269,  0.98963731],\n",
       "       [ 0.03314917,  0.96685083],\n",
       "       [ 1.        ,  0.        ],\n",
       "       [ 1.        ,  0.        ],\n",
       "       [ 0.02475248,  0.97524752],\n",
       "       [ 0.62068966,  0.37931034]])"
      ]
     },
     "execution_count": 9,
     "metadata": {},
     "output_type": "execute_result"
    }
   ],
   "source": [
    "bag_clf.oob_decision_function_"
   ]
  },
  {
   "cell_type": "markdown",
   "metadata": {},
   "source": [
    "# Random Patches and Random Subspaces\n",
    "\n",
    "The `BaggingClassifier` class in Scikit-Learn supports sampling features. Feature sampling is controlled by the parameters `max_features` and `bootstrap_features`. These two hyperparameters work the same as `max_samples` and `bootstrap` for the instance sampling. When features, instead of instances, are sampled, each predictor is trained using a subset of the features. Sampling features is useful for dealing with high-dimensional inputs. \n",
    "\n",
    "+ Random Patches: Sampling of training instances and features\n",
    "+ Random Subspaces: Keeping all training instances but sampling features\n",
    "\n",
    "# Random Forests\n",
    "\n",
    "A Random Forest is an ensemble of Desicion Trees that are generally trained using bagging. Instead of the `BaggingClassifier` class, the class `RandomForestClassifier` is used for Decision Trees ensembles. The parameter `n_estimators` sets the number of trees in the forest. With only a few exceptions, the `RandomForestClassifier` has all the parameters from the `DecisionTreeClassifier` class to control how trees grow in the forest. \n",
    "\n",
    "The Random Forest algorithm searches for the best feature among a random subset of features when splitting a node instead of looking for the best feature from all the available features in the training set. This introduces randomness when growing the trees, so the resulting forest has greater tree diversity."
   ]
  },
  {
   "cell_type": "code",
   "execution_count": 10,
   "metadata": {},
   "outputs": [
    {
     "data": {
      "text/plain": [
       "0.91200000000000003"
      ]
     },
     "execution_count": 10,
     "metadata": {},
     "output_type": "execute_result"
    }
   ],
   "source": [
    "from sklearn.ensemble import RandomForestClassifier\n",
    "\n",
    "rnd_clf = RandomForestClassifier(n_estimators=500, max_leaf_nodes=16, n_jobs=-1)\n",
    "rnd_clf.fit(X_train, y_train)\n",
    "\n",
    "y_pred_rf = rnd_clf.predict(X_test)\n",
    "\n",
    "accuracy_score(y_test, y_pred_rf)"
   ]
  },
  {
   "cell_type": "markdown",
   "metadata": {},
   "source": [
    "## Extra-Trees\n",
    "\n",
    "To make random forests more random, it is possible to choose the threshods for each feature randomly instead of searching for the optimal threshold. This type of Random Forest is called *Extremely Randomized Trees* or Extra-Trees. This method is fastet to train than a regular Random Forest.\n",
    "\n",
    "The class in Scikit-Learn to create Extra-Trees is `ExtraTreesClassifier`. The hyperparameters are identical to the ones of the `RandomForestClassifier`. It is hard to tell in advance which model will perform better between Extra-Trees and Random Forest. The only certain way is to train both and compare them using cross-validation.\n",
    "\n",
    "## Feature Importance\n",
    "\n",
    "Another useful feature of Random Forests is the fact that the realative importance of each feature is calculated during training. The importance of each feature is determined by looking how much impurity is reduced in the nodes that use each feature. The contribution of each node is a weighted average, because the weight of each node is determined by the number of training samples in each node. \n",
    "\n",
    "This feature importance is calculated by Scikit-Learn during training and can be accessed using the `feature_importances_` variable. \n",
    "\n",
    "The fact that Random Forests are capable of calculating the importance of features, makes this model useful to understand which features matter the most."
   ]
  },
  {
   "cell_type": "code",
   "execution_count": 11,
   "metadata": {},
   "outputs": [
    {
     "name": "stdout",
     "output_type": "stream",
     "text": [
      "sepal length (cm) 0.104720282024\n",
      "sepal width (cm) 0.0272865146818\n",
      "petal length (cm) 0.404474165154\n",
      "petal width (cm) 0.46351903814\n"
     ]
    }
   ],
   "source": [
    "from sklearn.datasets import load_iris\n",
    "iris = load_iris()\n",
    "\n",
    "rnd_clf = RandomForestClassifier(n_estimators=500, n_jobs=-1)\n",
    "rnd_clf.fit(iris['data'], iris['target'])\n",
    "\n",
    "for name, score in zip(iris['feature_names'], rnd_clf.feature_importances_):\n",
    "    print(name, score)"
   ]
  },
  {
   "cell_type": "markdown",
   "metadata": {},
   "source": [
    "# Boosting\n",
    "\n",
    "In general, boosting is any ensemble method that combines weak learners into a stronger learner. The idea behind boosting is to train predictors in a sequence so that a predictor fixes the errors of its predecessor.\n",
    "\n",
    "## AdaBoost\n",
    "\n",
    "One way to make the preceding model better is to pay attention to the training instances that the previous model underfitted. This method is called AdaBoost (Adaptive Boosting) and makes the predictors in the sequence focus in the hard cases. \n",
    "\n",
    "At the beginning of the sequence, each instance weight $w^{(i)}$ is set to $\\frac{1}{m}$. Then, the first predictor is trained and the weighted error of the predictor $r_{1}$ is calculated on the training set.\n",
    "\n",
    "The equation for calculating the error of predictor $j$ is\n",
    "\n",
    "$r_{j} = \\frac{\\sum_{ \\text{Errors}} w^{(i)}}{\\sum_{i=1}^{m} w^{(i)}}$\n",
    "\n",
    "In the numerator, the sum goes only over the instances in which the predicted value differs from the target value in the training set.\n",
    "\n",
    "Then the predictor's weight $\\alpha_{j}$ is calculated using the equation\n",
    "\n",
    "$\\alpha_{j} = \\eta \\log \\frac{1-r_{j}}{r_{j}}$\n",
    "\n",
    "where $\\eta$ is the learning rate hyperparameter. This learning rate hyperparameter controls the weight given duuring training to wrong instances. It can be seen from the previous equation that the more accurate the predictor is, the higher its weight will be. If the predictor is more often wrong than right, its weight will be negative. \n",
    "\n",
    "Next, the instance weights have to be update using the following rules:\n",
    "\n",
    "+ $w^{(i)}_\\text{new} = w^{(i)}$ if prediction of instance i is correct\n",
    "+ $w^{(i)}_\\text{new} = w^{(i)}\\exp(\\alpha_{j})$ if prediction is incorrect\n",
    "\n",
    "According to these rules, the weight of misclassified instances is boosted while the weights of the correctly classified instances remain unchanged.\n",
    "\n",
    "After all the weights are updated, the weights are normalized dividing them by $\\sum_{i=1}^{m}w^{(i)}$.\n",
    "\n",
    "Then, a new predictor is trained using the new weights and the whole process is repeated until the number of desired predictors is reached or when the perfect predictor is found. \n",
    "\n",
    "The predictions in AdaBoost are calculated by predicting the class in each predictor of the sequence. Then, the predicted class is chosen by a majority of weighted votes from all the predictors. The vote from each predictor is weighted using $\\alpha_{j}$ of each predictor. \n",
    "\n",
    "In Scikit-Learn, SAMME is used instead of AdaBoost. SAMME is the multiclass version of AdaBoost, so both are equivalent when there are only two classes. Furthermore, if the predictors in the ensemble can predict probabilities, a variant of SAMME called SAMME.R can be used. Using SAMME.R is beneficial because it generally performs better. \n",
    "\n",
    "The code below trains 200 Decision Stumps (or Decision Trees with max_depth = 1) using the `AdaBoostClassifier` class."
   ]
  },
  {
   "cell_type": "code",
   "execution_count": 12,
   "metadata": {},
   "outputs": [
    {
     "data": {
      "text/plain": [
       "0.89600000000000002"
      ]
     },
     "execution_count": 12,
     "metadata": {},
     "output_type": "execute_result"
    }
   ],
   "source": [
    "from sklearn.ensemble import AdaBoostClassifier\n",
    "\n",
    "ada_clf = AdaBoostClassifier(\n",
    "    DecisionTreeClassifier(max_depth=1), n_estimators=200,\n",
    "    algorithm='SAMME.R', learning_rate=0.5\n",
    ")\n",
    "\n",
    "ada_clf.fit(X_train, y_train)\n",
    "y_pred = ada_clf.predict(X_test)\n",
    "\n",
    "accuracy_score(y_test, y_pred)"
   ]
  },
  {
   "cell_type": "markdown",
   "metadata": {},
   "source": [
    "To fix overfitting in an AdaBoost ensemble, the number of estimator can be reduced as well as imposing a stronger regularizarion for the base estimator.\n",
    "\n",
    "## Gradient Boosting\n",
    "\n",
    "Gradient Boosting, like AdaBoost, works in a sequence of predictors in which each predictor tries to fix the errors of its predecessor. The difference with AdaBoost is that Gradient Boosting tries to fit the new predictor to the residual errors instead of updating the instance weights in each iteration.\n",
    "\n",
    "The example below will be a regression task using Decision Trees. The first step is to train a single Decision Tree."
   ]
  },
  {
   "cell_type": "code",
   "execution_count": 13,
   "metadata": {},
   "outputs": [
    {
     "data": {
      "text/plain": [
       "DecisionTreeRegressor(criterion='mse', max_depth=2, max_features=None,\n",
       "           max_leaf_nodes=None, min_impurity_split=1e-07,\n",
       "           min_samples_leaf=1, min_samples_split=2,\n",
       "           min_weight_fraction_leaf=0.0, presort=False, random_state=None,\n",
       "           splitter='best')"
      ]
     },
     "execution_count": 13,
     "metadata": {},
     "output_type": "execute_result"
    }
   ],
   "source": [
    "from sklearn.tree import DecisionTreeRegressor\n",
    "\n",
    "np.random.seed(42)\n",
    "X = np.random.rand(100, 1) - 0.5\n",
    "y = 3*X[:, 0]**2 + 0.05 * np.random.randn(100)\n",
    "\n",
    "tree_reg1 = DecisionTreeRegressor(max_depth=2)\n",
    "tree_reg1.fit(X, y)"
   ]
  },
  {
   "cell_type": "markdown",
   "metadata": {},
   "source": [
    "The next step is to train other Decision Tree on the residuals from the first tree and repeat the same process with a third tree."
   ]
  },
  {
   "cell_type": "code",
   "execution_count": 14,
   "metadata": {},
   "outputs": [
    {
     "data": {
      "text/plain": [
       "DecisionTreeRegressor(criterion='mse', max_depth=2, max_features=None,\n",
       "           max_leaf_nodes=None, min_impurity_split=1e-07,\n",
       "           min_samples_leaf=1, min_samples_split=2,\n",
       "           min_weight_fraction_leaf=0.0, presort=False, random_state=None,\n",
       "           splitter='best')"
      ]
     },
     "execution_count": 14,
     "metadata": {},
     "output_type": "execute_result"
    }
   ],
   "source": [
    "y2 = y - tree_reg1.predict(X)\n",
    "tree_reg2 = DecisionTreeRegressor(max_depth=2)\n",
    "tree_reg2.fit(X, y2)\n",
    "\n",
    "y3 = y2 - tree_reg2.predict(X)\n",
    "tree_reg3 = DecisionTreeRegressor(max_depth=2)\n",
    "tree_reg3.fit(X, y3)"
   ]
  },
  {
   "cell_type": "markdown",
   "metadata": {},
   "source": [
    "The ensemble of the three trees is now ready. To make the predictions using the ensemble, the predictions from each individual tree must me added."
   ]
  },
  {
   "cell_type": "code",
   "execution_count": 15,
   "metadata": {
    "collapsed": true
   },
   "outputs": [],
   "source": [
    "y_pred = sum(tree.predict(X) for tree in (tree_reg1, tree_reg2, tree_reg3))"
   ]
  },
  {
   "cell_type": "code",
   "execution_count": 20,
   "metadata": {},
   "outputs": [
    {
     "data": {
      "text/plain": [
       "<matplotlib.text.Text at 0x7f98720c3908>"
      ]
     },
     "execution_count": 20,
     "metadata": {},
     "output_type": "execute_result"
    },
    {
     "data": {
      "image/png": "[encoded data removed]",
      "text/plain": [
       "<matplotlib.figure.Figure at 0x7f98732a2d30>"
      ]
     },
     "metadata": {},
     "output_type": "display_data"
    }
   ],
   "source": [
    "def plot_predictions(regressors, X, y, axes, label=None, style=\"r-\", data_style=\"b.\", data_label=None):\n",
    "    x1 = np.linspace(axes[0], axes[1], 500)\n",
    "    y_pred = sum(regressor.predict(x1.reshape(-1, 1)) for regressor in regressors)\n",
    "    plt.plot(X[:, 0], y, data_style, label=data_label)\n",
    "    plt.plot(x1, y_pred, style, linewidth=2, label=label)\n",
    "    if label or data_label:\n",
    "        plt.legend(loc=\"upper center\", fontsize=16)\n",
    "    plt.axis(axes)\n",
    "\n",
    "plt.figure(figsize=(11,11))\n",
    "\n",
    "plt.subplot(321)\n",
    "plot_predictions([tree_reg1], X, y, axes=[-0.5, 0.5, -0.1, 0.8], label=\"$h_1(x_1)$\", style=\"g-\", data_label=\"Training set\")\n",
    "plt.ylabel(\"$y$\", fontsize=16, rotation=0)\n",
    "plt.title(\"Residuals and tree predictions\", fontsize=16)\n",
    "\n",
    "plt.subplot(322)\n",
    "plot_predictions([tree_reg1], X, y, axes=[-0.5, 0.5, -0.1, 0.8], label=\"$h(x_1) = h_1(x_1)$\", data_label=\"Training set\")\n",
    "plt.ylabel(\"$y$\", fontsize=16, rotation=0)\n",
    "plt.title(\"Ensemble predictions\", fontsize=16)\n",
    "\n",
    "plt.subplot(323)\n",
    "plot_predictions([tree_reg2], X, y2, axes=[-0.5, 0.5, -0.5, 0.5], label=\"$h_2(x_1)$\", style=\"g-\", data_style=\"k+\", data_label=\"Residuals\")\n",
    "plt.ylabel(\"$y - h_1(x_1)$\", fontsize=16)\n",
    "\n",
    "plt.subplot(324)\n",
    "plot_predictions([tree_reg1, tree_reg2], X, y, axes=[-0.5, 0.5, -0.1, 0.8], label=\"$h(x_1) = h_1(x_1) + h_2(x_1)$\")\n",
    "plt.ylabel(\"$y$\", fontsize=16, rotation=0)\n",
    "\n",
    "plt.subplot(325)\n",
    "plot_predictions([tree_reg3], X, y3, axes=[-0.5, 0.5, -0.5, 0.5], label=\"$h_3(x_1)$\", style=\"g-\", data_style=\"k+\")\n",
    "plt.ylabel(\"$y - h_1(x_1) - h_2(x_1)$\", fontsize=16)\n",
    "plt.xlabel(\"$x_1$\", fontsize=16)\n",
    "\n",
    "plt.subplot(326)\n",
    "plot_predictions([tree_reg1, tree_reg2, tree_reg3], X, y, axes=[-0.5, 0.5, -0.1, 0.8], label=\"$h(x_1) = h_1(x_1) + h_2(x_1) + h_3(x_1)$\")\n",
    "plt.xlabel(\"$x_1$\", fontsize=16)\n",
    "plt.ylabel(\"$y$\", fontsize=16, rotation=0)"
   ]
  },
  {
   "cell_type": "markdown",
   "metadata": {},
   "source": [
    "The plots above show how the regressiong improves when more trees are added to the ensemble. Also, comparing the right and left columns, it can be seen that the regression is improved by adding the regression to the residuals from the previous predictor in the sequence.\n",
    "\n",
    "Instead of creating the Decision Trees in the sequence by hand, the Scikit-Learn's class `GradientBoostingRegressor` can be used. This class has all the hyperparameters to control tree growth as well as parameters to control the ensemble training. The learning rate hyperparameter scaled the contribution of each tree. If the learning rate is set low, more trees will be needed to fit the training set because adding the residuals will result in smaller changes. However, a lower learning rate will also allow the ensemble to generalize better. "
   ]
  },
  {
   "cell_type": "code",
   "execution_count": 23,
   "metadata": {},
   "outputs": [
    {
     "data": {
      "text/plain": [
       "GradientBoostingRegressor(alpha=0.9, criterion='friedman_mse', init=None,\n",
       "             learning_rate=1.0, loss='ls', max_depth=2, max_features=None,\n",
       "             max_leaf_nodes=None, min_impurity_split=1e-07,\n",
       "             min_samples_leaf=1, min_samples_split=2,\n",
       "             min_weight_fraction_leaf=0.0, n_estimators=3, presort='auto',\n",
       "             random_state=None, subsample=1.0, verbose=0, warm_start=False)"
      ]
     },
     "execution_count": 23,
     "metadata": {},
     "output_type": "execute_result"
    }
   ],
   "source": [
    "from sklearn.ensemble import GradientBoostingRegressor\n",
    "\n",
    "gbrt = GradientBoostingRegressor(max_depth = 2, n_estimators=3, learning_rate=1.0)\n",
    "gbrt.fit(X,y)"
   ]
  },
  {
   "cell_type": "markdown",
   "metadata": {},
   "source": [
    "As any model, Boosted Regression can suffer of under or overfitting. A way to find the optimal number of trees, so the ensemble does not under or overfit the data, is using early stopping.\n",
    "\n",
    "One way to implement early stopping is using the method `staged_predict()`. This method return an iterator over all the predictions made by the ensemble in each stage of training. Using this iterator, the validation error can be determined in each stage of training. That way, the optimal number of trees can be found to train an new ensemble with this optimal number of predictors."
   ]
  },
  {
   "cell_type": "code",
   "execution_count": 26,
   "metadata": {},
   "outputs": [
    {
     "data": {
      "text/plain": [
       "GradientBoostingRegressor(alpha=0.9, criterion='friedman_mse', init=None,\n",
       "             learning_rate=0.1, loss='ls', max_depth=2, max_features=None,\n",
       "             max_leaf_nodes=None, min_impurity_split=1e-07,\n",
       "             min_samples_leaf=1, min_samples_split=2,\n",
       "             min_weight_fraction_leaf=0.0, n_estimators=107,\n",
       "             presort='auto', random_state=None, subsample=1.0, verbose=0,\n",
       "             warm_start=False)"
      ]
     },
     "execution_count": 26,
     "metadata": {},
     "output_type": "execute_result"
    }
   ],
   "source": [
    "from sklearn.model_selection import train_test_split\n",
    "from sklearn.metrics import mean_squared_error\n",
    "\n",
    "X_train, X_val, y_train, y_val = train_test_split(X, y)\n",
    "\n",
    "gbrt = GradientBoostingRegressor(max_depth=2, n_estimators=120)\n",
    "gbrt.fit(X_train, y_train)\n",
    "\n",
    "errors = [mean_squared_error(y_val, y_pred) \n",
    "         for y_pred in gbrt.staged_predict(X_val)]\n",
    "\n",
    "best_n_estimator = np.argmin(errors)\n",
    "\n",
    "gbrt_best = GradientBoostingRegressor(max_depth=2, n_estimators=best_n_estimator)\n",
    "gbrt_best.fit(X_train, y_train)"
   ]
  },
  {
   "cell_type": "code",
   "execution_count": 29,
   "metadata": {},
   "outputs": [
    {
     "data": {
      "text/plain": [
       "<matplotlib.text.Text at 0x7f9871e11a20>"
      ]
     },
     "execution_count": 29,
     "metadata": {},
     "output_type": "execute_result"
    },
    {
     "data": {
      "image/png": "[encoded data removed]",
      "text/plain": [
       "<matplotlib.figure.Figure at 0x7f9871e8a6d8>"
      ]
     },
     "metadata": {},
     "output_type": "display_data"
    }
   ],
   "source": [
    "min_error = np.min(errors)\n",
    "\n",
    "plt.figure(figsize=(11,4))\n",
    "\n",
    "plt.subplot(121)\n",
    "plt.plot(errors, \"b.-\")\n",
    "plt.plot([best_n_estimator, best_n_estimator], [0, min_error], \"k--\")\n",
    "plt.plot([0, 120], [min_error, min_error], \"k--\")\n",
    "plt.plot(best_n_estimator, min_error, \"ko\")\n",
    "plt.text(best_n_estimator, min_error*1.2, \"Minimum\", ha=\"center\", fontsize=14)\n",
    "plt.axis([0, 120, 0, 0.01])\n",
    "plt.xlabel(\"Number of trees\")\n",
    "plt.title(\"Validation error\", fontsize=14)\n",
    "\n",
    "\n",
    "plt.subplot(122)\n",
    "plot_predictions([gbrt_best], X, y, axes=[-0.5, 0.5, -0.1, 0.8])\n",
    "plt.title(\"learning_rate={}, n_estimators={}\".format(gbrt_best.learning_rate, gbrt_best.n_estimators), fontsize=14)\n",
    "\n"
   ]
  },
  {
   "cell_type": "markdown",
   "metadata": {},
   "source": [
    "In the previous implementation a number of trees greater than the optimal had to be trained. A way to implement early stopping without having to train more trees than actually needed is using the `warm_start=True` parameter. By setting this parameter to true, the existing trees are kept when calling the `fit()` method. That way, the error can be determined in each step and the algorithm is stopped when the error begins to increase."
   ]
  },
  {
   "cell_type": "code",
   "execution_count": 32,
   "metadata": {},
   "outputs": [
    {
     "name": "stdout",
     "output_type": "stream",
     "text": [
      "58\n"
     ]
    }
   ],
   "source": [
    "gbrt = GradientBoostingRegressor(max_depth=2, warm_start=True)\n",
    "\n",
    "min_val_error = float('inf')\n",
    "error_going_up = 0\n",
    "\n",
    "for n_estimators in range(1,120):\n",
    "    \n",
    "    gbrt.n_estimators = n_estimators\n",
    "    gbrt.fit(X_train, y_train)\n",
    "    y_pred = gbrt.predict(X_val)\n",
    "    val_error = mean_squared_error(y_val, y_pred)\n",
    "    \n",
    "    if val_error < min_val_error:\n",
    "        min_val_error = val_error\n",
    "        error_going_up = 0\n",
    "    else:\n",
    "        error_going_up += 1\n",
    "        if error_going_up == 5:\n",
    "            break\n",
    "            \n",
    "print(gbrt.n_estimators)"
   ]
  },
  {
   "cell_type": "markdown",
   "metadata": {},
   "source": [
    "The `GradientBoostingRegressor` class supports a the `subsample` hyperparameter. The fraction of instances used from the training set to train each tree can be controlled using this hyperparameter. Since the instances are selected randomly, this technique is called Stochastic Gradient Boosting. Using this techniquey trades a higher bias for a lower variance and speeds up the training.\n",
    "\n",
    "Also, it is possible to train Gradient Boosting using other cost functions setting the `loss` hyperparameter.\n",
    "\n",
    "# Stacking\n",
    "\n",
    "Stacking is an another ensemble method that does not use trivial functions to aggregate the predictions from the predictors in the ensemble. Instead, stacking trains a model to perform the aggregation. This aggregation model is called the blender and also has to be trained. \n",
    "\n",
    "To use stacking, the first step is to divide the training set into two subsets. The first subset is used to train the predictors that are going to vote (the first layer predictors). Then, this first layer predictors make predictions on the second subset of the training set. Next, a new training set is created using the predicted values from the first layer predictors. The blender is then trained on the created training set so it can learn to predict the target value from the first layer's prediction. \n",
    "\n",
    "Scikit-Learn does not support Stacking directly, so it must be implemented. Also, open source implementations such as [brew](https://github.com/viisar/brew) can be used."
   ]
  },
  {
   "cell_type": "code",
   "execution_count": null,
   "metadata": {
    "collapsed": true
   },
   "outputs": [],
   "source": []
  }
 ],
 "metadata": {
  "kernelspec": {
   "display_name": "Python 3",
   "language": "python",
   "name": "python3"
  },
  "language_info": {
   "codemirror_mode": {
    "name": "ipython",
    "version": 3
   },
   "file_extension": ".py",
   "mimetype": "text/x-python",
   "name": "python",
   "nbconvert_exporter": "python",
   "pygments_lexer": "ipython3",
   "version": "3.5.3"
  }
 },
 "nbformat": 4,
 "nbformat_minor": 2
}

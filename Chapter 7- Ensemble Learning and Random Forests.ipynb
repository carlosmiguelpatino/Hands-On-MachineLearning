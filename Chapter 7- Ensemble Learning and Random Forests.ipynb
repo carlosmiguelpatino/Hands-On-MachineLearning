{
 "cells": [
  {
   "cell_type": "markdown",
   "metadata": {},
   "source": [
    "# Voting Classifiers\n",
    "\n",
    "A way to improve a set of independent classifiers is to aggregate the prediction of each classsifier and predict the class the gets the most most from all the classifiers. This prediction by majority vote is called a *hard voting* classifier. This classifier made up of multiple classifiers performs better than the best classifier in the ensemble. Furthermore, a *strong learner* (a classifier that has high accuracy) can be constructed by aggregating *weak learner* (classifiers that perform slightly better than guessing) into an ensemble. This performance improvement can be achieved if there are enough weak learners and are sufficiently diverse. \n",
    "\n",
    "The idea behind the improvement achieved with ensembles of classifiers is the law of large numbers. For example, if there is an ensemble that has 1000 classifiers each with an accuracy of 51%, the prediction accuracy using the majority voted class should be around 75%. This happens because the more classifiers there are, the more the ratio of classification gets to 51% instead of fluctuating around 51%. This works as long as the classifiers in the ensemble are independet from each other. That is not always the case, because classifiers tend to make the same type of errors. This is why very different algorithms are used in an ensemble That way, the chance that the algorithms are making different errors is greater, so the accuracy of the ensemble is increased.\n",
    "\n",
    "The code below creates a voting classifier"
   ]
  },
  {
   "cell_type": "code",
   "execution_count": 1,
   "metadata": {
    "collapsed": true
   },
   "outputs": [],
   "source": [
    "from sklearn.datasets import make_moons\n",
    "from sklearn.model_selection import train_test_split\n",
    "\n",
    "X, y = make_moons(n_samples=500, noise=0.30, random_state=42)\n",
    "X_train, X_test, y_train, y_test = train_test_split(X, y, random_state=42)\n",
    "\n",
    "\n",
    "from sklearn.ensemble import RandomForestClassifier\n",
    "from sklearn.ensemble import VotingClassifier\n",
    "from sklearn.linear_model import LogisticRegression\n",
    "from sklearn.svm import SVC\n",
    "\n",
    "log_clf = LogisticRegression()\n",
    "rnd_clf = RandomForestClassifier()\n",
    "svm_clf = SVC()\n",
    "\n",
    "voting_clf = VotingClassifier(\n",
    "    estimators=[('lr', log_clf), ('rf', rnd_clf), ('svc', svm_clf)],\n",
    "    voting='hard')"
   ]
  },
  {
   "cell_type": "code",
   "execution_count": 2,
   "metadata": {},
   "outputs": [
    {
     "name": "stdout",
     "output_type": "stream",
     "text": [
      "LogisticRegression 0.864\n",
      "RandomForestClassifier 0.872\n",
      "SVC 0.888\n",
      "VotingClassifier 0.896\n"
     ]
    }
   ],
   "source": [
    "from sklearn.metrics import accuracy_score\n",
    "\n",
    "for clf in (log_clf, rnd_clf, svm_clf, voting_clf):\n",
    "    clf.fit(X_train, y_train)\n",
    "    y_pred = clf.predict(X_test)\n",
    "    print(clf.__class__.__name__, accuracy_score(y_test, y_pred))"
   ]
  },
  {
   "cell_type": "markdown",
   "metadata": {},
   "source": [
    "If all the classifiers have the method `predict_proba()` to estimate class probabilities, then it is possible to predict the highest class probability using the average from the individual classifiers. This method is called *soft voting* and most of the time performs better than *hard voting* because it gives more weight to votes with high confidence. To use soft voting instead of hard voting, it is enough to set `voting='soft` and make sure all classifiers in the ensemble are capable of estimating probabilities. \n",
    "\n",
    "# Bagging and Pasting\n",
    "\n",
    "An option to get diverse classifiers, different from using different algorithms in the ensemble, is to train a single algorithm using random subsets of the trainig set. When sampling is performed with replacement it is called **bagging**, while **pasting** is when there is sampling without replacement. (For more about with and without replacement visit [Sampling With or Without Replacement](https://www.thoughtco.com/sampling-with-or-without-replacement-3126563))That is, bagging allows training instaces to be sampled several times for the same predictor. \n",
    "\n",
    "Once the data is sampled, the predictots are trained using the subsets and the ensemble makes a prediction aggregating the predictions of all the predictors. The aggregation function generally is the *statistical mode*, or the most frequent prediction. Since the predictor was trained using subsets of the data, it has higher bias than if the whole training set was used. However, the aggregation procedure reduces variance and bias. In general, the ensemble has a lower variance and a similar bias than a single classifier in the ensemble. \n",
    "\n",
    "Since the individual classifiers can be trained and make predictions in parallel, the methods of bagging and pasting scale very well.\n",
    "\n",
    "To use bagging and pasting in Scikit-Learn, the class `BaggingClassifier` should be used. The code below trains 500 Decision Tree classifiers. The number of instances used to train each classifier are determined by the parameter `max_samples` which can be the number of samples of the ratio of samples from the total number of instances. The parameter `bootstrap` is set true by default, so bagging is the default method. If pasting is the method wanted, `bootsrap` should be set to False. Also, the `n_jobs` parameter determines how many cores should be used during training and prediction. If `n_jobs=-1`, all the available cores will be used. The `BaggingClassifier` performs soft voting by default if all the classifiers in the ensemble can estimate class probabilities."
   ]
  },
  {
   "cell_type": "code",
   "execution_count": 3,
   "metadata": {},
   "outputs": [
    {
     "name": "stdout",
     "output_type": "stream",
     "text": [
      "0.912\n"
     ]
    }
   ],
   "source": [
    "from sklearn.ensemble import BaggingClassifier\n",
    "from sklearn.tree import DecisionTreeClassifier\n",
    "\n",
    "bag_clf = BaggingClassifier(\n",
    "    DecisionTreeClassifier(), n_estimators=500,\n",
    "    max_samples=0.5, bootstrap=True, n_jobs=-1\n",
    ")\n",
    "\n",
    "bag_clf.fit(X_train, y_train)\n",
    "y_pred = bag_clf.predict(X_test)\n",
    "\n",
    "from sklearn.metrics import accuracy_score\n",
    "print(accuracy_score(y_test, y_pred))"
   ]
  },
  {
   "cell_type": "markdown",
   "metadata": {},
   "source": [
    "To compare the results, a single Decision Tree is trained."
   ]
  },
  {
   "cell_type": "code",
   "execution_count": 4,
   "metadata": {},
   "outputs": [
    {
     "name": "stdout",
     "output_type": "stream",
     "text": [
      "0.856\n"
     ]
    }
   ],
   "source": [
    "tree_clf = DecisionTreeClassifier(random_state=42)\n",
    "tree_clf.fit(X_train, y_train)\n",
    "y_pred_tree = tree_clf.predict(X_test)\n",
    "print(accuracy_score(y_test, y_pred_tree))"
   ]
  },
  {
   "cell_type": "code",
   "execution_count": 5,
   "metadata": {
    "collapsed": true
   },
   "outputs": [],
   "source": [
    "from matplotlib.colors import ListedColormap\n",
    "import matplotlib.pyplot as plt\n",
    "%matplotlib inline\n",
    "import numpy as np\n",
    "\n",
    "def plot_decision_boundary(clf, X, y, axes=[-1.5, 2.5, -1, 1.5], alpha=0.5, contour=True):\n",
    "    x1s = np.linspace(axes[0], axes[1], 100)\n",
    "    x2s = np.linspace(axes[2], axes[3], 100)\n",
    "    x1, x2 = np.meshgrid(x1s, x2s)\n",
    "    X_new = np.c_[x1.ravel(), x2.ravel()]\n",
    "    y_pred = clf.predict(X_new).reshape(x1.shape)\n",
    "    custom_cmap = ListedColormap(['#fafab0','#9898ff','#a0faa0'])\n",
    "    plt.contourf(x1, x2, y_pred, alpha=0.3, cmap=custom_cmap, linewidth=10)\n",
    "    if contour:\n",
    "        custom_cmap2 = ListedColormap(['#7d7d58','#4c4c7f','#507d50'])\n",
    "        plt.contour(x1, x2, y_pred, cmap=custom_cmap2, alpha=0.8)\n",
    "    plt.plot(X[:, 0][y==0], X[:, 1][y==0], \"yo\", alpha=alpha)\n",
    "    plt.plot(X[:, 0][y==1], X[:, 1][y==1], \"bs\", alpha=alpha)\n",
    "    plt.axis(axes)\n",
    "    plt.xlabel(r\"$x_1$\", fontsize=18)\n",
    "    plt.ylabel(r\"$x_2$\", fontsize=18, rotation=0)"
   ]
  },
  {
   "cell_type": "code",
   "execution_count": 6,
   "metadata": {},
   "outputs": [
    {
     "data": {
      "text/plain": [
       "<matplotlib.text.Text at 0x7fa35ac41a58>"
      ]
     },
     "execution_count": 6,
     "metadata": {},
     "output_type": "execute_result"
    },
    {
     "data": {
      "image/png": "[encoded data removed]",
      "text/plain": [
       "<matplotlib.figure.Figure at 0x7fa3723054e0>"
      ]
     },
     "metadata": {},
     "output_type": "display_data"
    }
   ],
   "source": [
    "plt.figure(figsize=(11,4))\n",
    "plt.subplot(121)\n",
    "plot_decision_boundary(tree_clf, X, y)\n",
    "plt.title(\"Decision Tree\", fontsize=14)\n",
    "plt.subplot(122)\n",
    "plot_decision_boundary(bag_clf, X, y)\n",
    "plt.title(\"Decision Trees with Bagging\", fontsize=14)"
   ]
  },
  {
   "cell_type": "markdown",
   "metadata": {},
   "source": [
    "Is seen in the plots above, the decision boundary resulting with bagging should generalize better than the boundary obtained from a single Decision Tree. Comparing pasting and bagging, bagging ends up with a slightly higher bias than pasting. This also means that the individual classifiers end up being less correlated so the ensemble bias is reduced. \n",
    "\n",
    "Bagging results in better models than pasting, but, if time and CPU power are an issue, cross-validation should be used to compare bagging and pasting. \n",
    "\n",
    "## Out-of-Bag Evaluation\n",
    "\n",
    "When bagging is used, some instances can by sampled multiple time for a classifier. Other instances in the datasets may not be sampled by any classifier. In fact, about 37% of the training instances are not sampled for each predictor. These training instances that are not sampled are called *out-of-bag* (oob) instances. \n",
    "\n",
    "Taking into account that each classifier does not use the oob instance during training, these instances can be used to evaluate the classifier. This evaluation can be set automatically by setting `oob_score=True` when creating a Bagging Classifier. "
   ]
  },
  {
   "cell_type": "code",
   "execution_count": 7,
   "metadata": {},
   "outputs": [
    {
     "data": {
      "text/plain": [
       "0.89600000000000002"
      ]
     },
     "execution_count": 7,
     "metadata": {},
     "output_type": "execute_result"
    }
   ],
   "source": [
    "bag_clf = BaggingClassifier(\n",
    "    DecisionTreeClassifier(), n_estimators=500,\n",
    "    bootstrap=True, n_jobs=-1, oob_score=True\n",
    ")\n",
    "\n",
    "bag_clf.fit(X_train, y_train)\n",
    "bag_clf.oob_score_"
   ]
  },
  {
   "cell_type": "code",
   "execution_count": 8,
   "metadata": {},
   "outputs": [
    {
     "data": {
      "text/plain": [
       "0.90400000000000003"
      ]
     },
     "execution_count": 8,
     "metadata": {},
     "output_type": "execute_result"
    }
   ],
   "source": [
    "y_pred = bag_clf.predict(X_test)\n",
    "accuracy_score(y_test, y_pred)"
   ]
  },
  {
   "cell_type": "markdown",
   "metadata": {},
   "source": [
    "**From both values above it can be seen that the evaluation using oob instance is close to the accuracy score using a test set.** \n",
    "\n",
    "Also, the oob decision function for each training instance is available after training the ensemble. When the classifiers in the ensemble can output a prediction probability, the decision function returns the class probabilities for each instance."
   ]
  },
  {
   "cell_type": "code",
   "execution_count": 9,
   "metadata": {},
   "outputs": [
    {
     "data": {
      "text/plain": [
       "array([[ 0.45454545,  0.54545455],\n",
       "       [ 0.40331492,  0.59668508],\n",
       "       [ 1.        ,  0.        ],\n",
       "       [ 0.        ,  1.        ],\n",
       "       [ 0.        ,  1.        ],\n",
       "       [ 0.05434783,  0.94565217],\n",
       "       [ 0.29064039,  0.70935961],\n",
       "       [ 0.01980198,  0.98019802],\n",
       "       [ 0.97905759,  0.02094241],\n",
       "       [ 0.96590909,  0.03409091],\n",
       "       [ 0.79329609,  0.20670391],\n",
       "       [ 0.00588235,  0.99411765],\n",
       "       [ 0.79      ,  0.21      ],\n",
       "       [ 0.82716049,  0.17283951],\n",
       "       [ 0.9726776 ,  0.0273224 ],\n",
       "       [ 0.04878049,  0.95121951],\n",
       "       [ 0.00510204,  0.99489796],\n",
       "       [ 0.98941799,  0.01058201],\n",
       "       [ 0.91176471,  0.08823529],\n",
       "       [ 0.99378882,  0.00621118],\n",
       "       [ 0.02994012,  0.97005988],\n",
       "       [ 0.38285714,  0.61714286],\n",
       "       [ 0.92397661,  0.07602339],\n",
       "       [ 1.        ,  0.        ],\n",
       "       [ 0.96923077,  0.03076923],\n",
       "       [ 0.        ,  1.        ],\n",
       "       [ 0.98888889,  0.01111111],\n",
       "       [ 1.        ,  0.        ],\n",
       "       [ 0.        ,  1.        ],\n",
       "       [ 0.58988764,  0.41011236],\n",
       "       [ 0.        ,  1.        ],\n",
       "       [ 1.        ,  0.        ],\n",
       "       [ 0.        ,  1.        ],\n",
       "       [ 0.        ,  1.        ],\n",
       "       [ 0.11458333,  0.88541667],\n",
       "       [ 1.        ,  0.        ],\n",
       "       [ 0.        ,  1.        ],\n",
       "       [ 0.37894737,  0.62105263],\n",
       "       [ 0.        ,  1.        ],\n",
       "       [ 1.        ,  0.        ],\n",
       "       [ 0.27868852,  0.72131148],\n",
       "       [ 0.34803922,  0.65196078],\n",
       "       [ 1.        ,  0.        ],\n",
       "       [ 1.        ,  0.        ],\n",
       "       [ 0.        ,  1.        ],\n",
       "       [ 1.        ,  0.        ],\n",
       "       [ 1.        ,  0.        ],\n",
       "       [ 0.01136364,  0.98863636],\n",
       "       [ 0.99401198,  0.00598802],\n",
       "       [ 0.01052632,  0.98947368],\n",
       "       [ 1.        ,  0.        ],\n",
       "       [ 0.8988764 ,  0.1011236 ],\n",
       "       [ 0.96335079,  0.03664921],\n",
       "       [ 0.96842105,  0.03157895],\n",
       "       [ 0.        ,  1.        ],\n",
       "       [ 0.08205128,  0.91794872],\n",
       "       [ 0.98285714,  0.01714286],\n",
       "       [ 0.        ,  1.        ],\n",
       "       [ 0.        ,  1.        ],\n",
       "       [ 0.02298851,  0.97701149],\n",
       "       [ 0.98412698,  0.01587302],\n",
       "       [ 0.78534031,  0.21465969],\n",
       "       [ 0.34946237,  0.65053763],\n",
       "       [ 1.        ,  0.        ],\n",
       "       [ 0.        ,  1.        ],\n",
       "       [ 0.68208092,  0.31791908],\n",
       "       [ 1.        ,  0.        ],\n",
       "       [ 1.        ,  0.        ],\n",
       "       [ 0.8742515 ,  0.1257485 ],\n",
       "       [ 1.        ,  0.        ],\n",
       "       [ 0.59668508,  0.40331492],\n",
       "       [ 0.15555556,  0.84444444],\n",
       "       [ 0.60335196,  0.39664804],\n",
       "       [ 0.92178771,  0.07821229],\n",
       "       [ 0.        ,  1.        ],\n",
       "       [ 0.2247191 ,  0.7752809 ],\n",
       "       [ 0.87368421,  0.12631579],\n",
       "       [ 1.        ,  0.        ],\n",
       "       [ 0.00546448,  0.99453552],\n",
       "       [ 1.        ,  0.        ],\n",
       "       [ 0.        ,  1.        ],\n",
       "       [ 0.08695652,  0.91304348],\n",
       "       [ 0.03703704,  0.96296296],\n",
       "       [ 0.3045977 ,  0.6954023 ],\n",
       "       [ 1.        ,  0.        ],\n",
       "       [ 0.        ,  1.        ],\n",
       "       [ 0.8579235 ,  0.1420765 ],\n",
       "       [ 0.00515464,  0.99484536],\n",
       "       [ 0.        ,  1.        ],\n",
       "       [ 0.        ,  1.        ],\n",
       "       [ 0.23312883,  0.76687117],\n",
       "       [ 1.        ,  0.        ],\n",
       "       [ 0.        ,  1.        ],\n",
       "       [ 0.        ,  1.        ],\n",
       "       [ 0.        ,  1.        ],\n",
       "       [ 0.93434343,  0.06565657],\n",
       "       [ 0.79032258,  0.20967742],\n",
       "       [ 0.01081081,  0.98918919],\n",
       "       [ 1.        ,  0.        ],\n",
       "       [ 0.18181818,  0.81818182],\n",
       "       [ 0.60571429,  0.39428571],\n",
       "       [ 0.        ,  1.        ],\n",
       "       [ 0.04069767,  0.95930233],\n",
       "       [ 0.4491018 ,  0.5508982 ],\n",
       "       [ 0.99484536,  0.00515464],\n",
       "       [ 0.01485149,  0.98514851],\n",
       "       [ 0.99492386,  0.00507614],\n",
       "       [ 0.27607362,  0.72392638],\n",
       "       [ 0.53225806,  0.46774194],\n",
       "       [ 1.        ,  0.        ],\n",
       "       [ 0.00543478,  0.99456522],\n",
       "       [ 0.97837838,  0.02162162],\n",
       "       [ 0.25      ,  0.75      ],\n",
       "       [ 0.90555556,  0.09444444],\n",
       "       [ 1.        ,  0.        ],\n",
       "       [ 1.        ,  0.        ],\n",
       "       [ 0.        ,  1.        ],\n",
       "       [ 0.        ,  1.        ],\n",
       "       [ 0.81142857,  0.18857143],\n",
       "       [ 1.        ,  0.        ],\n",
       "       [ 0.01578947,  0.98421053],\n",
       "       [ 1.        ,  0.        ],\n",
       "       [ 0.98765432,  0.01234568],\n",
       "       [ 1.        ,  0.        ],\n",
       "       [ 1.        ,  0.        ],\n",
       "       [ 1.        ,  0.        ],\n",
       "       [ 0.01117318,  0.98882682],\n",
       "       [ 0.93121693,  0.06878307],\n",
       "       [ 1.        ,  0.        ],\n",
       "       [ 0.03333333,  0.96666667],\n",
       "       [ 0.25842697,  0.74157303],\n",
       "       [ 0.95789474,  0.04210526],\n",
       "       [ 0.26966292,  0.73033708],\n",
       "       [ 0.98584906,  0.01415094],\n",
       "       [ 0.        ,  1.        ],\n",
       "       [ 0.01104972,  0.98895028],\n",
       "       [ 0.68208092,  0.31791908],\n",
       "       [ 0.40206186,  0.59793814],\n",
       "       [ 0.42718447,  0.57281553],\n",
       "       [ 0.87709497,  0.12290503],\n",
       "       [ 0.92857143,  0.07142857],\n",
       "       [ 0.05789474,  0.94210526],\n",
       "       [ 0.7431694 ,  0.2568306 ],\n",
       "       [ 0.        ,  1.        ],\n",
       "       [ 0.        ,  1.        ],\n",
       "       [ 0.04020101,  0.95979899],\n",
       "       [ 0.95959596,  0.04040404],\n",
       "       [ 1.        ,  0.        ],\n",
       "       [ 1.        ,  0.        ],\n",
       "       [ 0.0106383 ,  0.9893617 ],\n",
       "       [ 0.        ,  1.        ],\n",
       "       [ 0.01162791,  0.98837209],\n",
       "       [ 0.01554404,  0.98445596],\n",
       "       [ 1.        ,  0.        ],\n",
       "       [ 1.        ,  0.        ],\n",
       "       [ 0.94148936,  0.05851064],\n",
       "       [ 1.        ,  0.        ],\n",
       "       [ 1.        ,  0.        ],\n",
       "       [ 1.        ,  0.        ],\n",
       "       [ 0.        ,  1.        ],\n",
       "       [ 0.35955056,  0.64044944],\n",
       "       [ 0.26842105,  0.73157895],\n",
       "       [ 0.        ,  1.        ],\n",
       "       [ 0.        ,  1.        ],\n",
       "       [ 0.3556701 ,  0.6443299 ],\n",
       "       [ 1.        ,  0.        ],\n",
       "       [ 1.        ,  0.        ],\n",
       "       [ 0.        ,  1.        ],\n",
       "       [ 1.        ,  0.        ],\n",
       "       [ 0.00507614,  0.99492386],\n",
       "       [ 0.        ,  1.        ],\n",
       "       [ 0.97354497,  0.02645503],\n",
       "       [ 0.        ,  1.        ],\n",
       "       [ 0.        ,  1.        ],\n",
       "       [ 1.        ,  0.        ],\n",
       "       [ 0.        ,  1.        ],\n",
       "       [ 0.61748634,  0.38251366],\n",
       "       [ 0.92613636,  0.07386364],\n",
       "       [ 0.        ,  1.        ],\n",
       "       [ 1.        ,  0.        ],\n",
       "       [ 0.99375   ,  0.00625   ],\n",
       "       [ 1.        ,  0.        ],\n",
       "       [ 0.        ,  1.        ],\n",
       "       [ 0.        ,  1.        ],\n",
       "       [ 1.        ,  0.        ],\n",
       "       [ 0.07222222,  0.92777778],\n",
       "       [ 1.        ,  0.        ],\n",
       "       [ 0.06629834,  0.93370166],\n",
       "       [ 0.00555556,  0.99444444],\n",
       "       [ 1.        ,  0.        ],\n",
       "       [ 0.        ,  1.        ],\n",
       "       [ 0.03743316,  0.96256684],\n",
       "       [ 1.        ,  0.        ],\n",
       "       [ 0.94857143,  0.05142857],\n",
       "       [ 0.77659574,  0.22340426],\n",
       "       [ 0.56544503,  0.43455497],\n",
       "       [ 0.        ,  1.        ],\n",
       "       [ 0.12087912,  0.87912088],\n",
       "       [ 1.        ,  0.        ],\n",
       "       [ 0.9368932 ,  0.0631068 ],\n",
       "       [ 0.98360656,  0.01639344],\n",
       "       [ 1.        ,  0.        ],\n",
       "       [ 0.01081081,  0.98918919],\n",
       "       [ 0.        ,  1.        ],\n",
       "       [ 0.43646409,  0.56353591],\n",
       "       [ 0.86010363,  0.13989637],\n",
       "       [ 0.        ,  1.        ],\n",
       "       [ 0.00529101,  0.99470899],\n",
       "       [ 1.        ,  0.        ],\n",
       "       [ 0.01162791,  0.98837209],\n",
       "       [ 0.        ,  1.        ],\n",
       "       [ 0.96571429,  0.03428571],\n",
       "       [ 0.        ,  1.        ],\n",
       "       [ 0.30167598,  0.69832402],\n",
       "       [ 0.        ,  1.        ],\n",
       "       [ 1.        ,  0.        ],\n",
       "       [ 0.        ,  1.        ],\n",
       "       [ 0.        ,  1.        ],\n",
       "       [ 0.97660819,  0.02339181],\n",
       "       [ 0.8125    ,  0.1875    ],\n",
       "       [ 1.        ,  0.        ],\n",
       "       [ 0.        ,  1.        ],\n",
       "       [ 0.05142857,  0.94857143],\n",
       "       [ 1.        ,  0.        ],\n",
       "       [ 0.01020408,  0.98979592],\n",
       "       [ 0.        ,  1.        ],\n",
       "       [ 0.05142857,  0.94857143],\n",
       "       [ 1.        ,  0.        ],\n",
       "       [ 0.79096045,  0.20903955],\n",
       "       [ 0.        ,  1.        ],\n",
       "       [ 0.94029851,  0.05970149],\n",
       "       [ 0.99470899,  0.00529101],\n",
       "       [ 0.21142857,  0.78857143],\n",
       "       [ 0.25146199,  0.74853801],\n",
       "       [ 1.        ,  0.        ],\n",
       "       [ 0.        ,  1.        ],\n",
       "       [ 0.        ,  1.        ],\n",
       "       [ 0.        ,  1.        ],\n",
       "       [ 0.17021277,  0.82978723],\n",
       "       [ 0.95721925,  0.04278075],\n",
       "       [ 0.        ,  1.        ],\n",
       "       [ 1.        ,  0.        ],\n",
       "       [ 0.98314607,  0.01685393],\n",
       "       [ 0.        ,  1.        ],\n",
       "       [ 0.4742268 ,  0.5257732 ],\n",
       "       [ 1.        ,  0.        ],\n",
       "       [ 0.        ,  1.        ],\n",
       "       [ 1.        ,  0.        ],\n",
       "       [ 0.        ,  1.        ],\n",
       "       [ 0.        ,  1.        ],\n",
       "       [ 0.09547739,  0.90452261],\n",
       "       [ 0.12041885,  0.87958115],\n",
       "       [ 0.99408284,  0.00591716],\n",
       "       [ 0.01025641,  0.98974359],\n",
       "       [ 1.        ,  0.        ],\n",
       "       [ 0.40860215,  0.59139785],\n",
       "       [ 0.1043956 ,  0.8956044 ],\n",
       "       [ 0.52795031,  0.47204969],\n",
       "       [ 0.58602151,  0.41397849],\n",
       "       [ 0.01092896,  0.98907104],\n",
       "       [ 1.        ,  0.        ],\n",
       "       [ 0.        ,  1.        ],\n",
       "       [ 0.        ,  1.        ],\n",
       "       [ 0.61052632,  0.38947368],\n",
       "       [ 0.        ,  1.        ],\n",
       "       [ 1.        ,  0.        ],\n",
       "       [ 0.25862069,  0.74137931],\n",
       "       [ 0.84444444,  0.15555556],\n",
       "       [ 0.07909605,  0.92090395],\n",
       "       [ 1.        ,  0.        ],\n",
       "       [ 0.79558011,  0.20441989],\n",
       "       [ 0.        ,  1.        ],\n",
       "       [ 0.00588235,  0.99411765],\n",
       "       [ 0.1125    ,  0.8875    ],\n",
       "       [ 0.0060241 ,  0.9939759 ],\n",
       "       [ 0.        ,  1.        ],\n",
       "       [ 1.        ,  0.        ],\n",
       "       [ 0.92929293,  0.07070707],\n",
       "       [ 0.14563107,  0.85436893],\n",
       "       [ 0.94818653,  0.05181347],\n",
       "       [ 0.00990099,  0.99009901],\n",
       "       [ 0.56830601,  0.43169399],\n",
       "       [ 0.08484848,  0.91515152],\n",
       "       [ 0.97849462,  0.02150538],\n",
       "       [ 0.83919598,  0.16080402],\n",
       "       [ 0.        ,  1.        ],\n",
       "       [ 1.        ,  0.        ],\n",
       "       [ 0.96153846,  0.03846154],\n",
       "       [ 0.        ,  1.        ],\n",
       "       [ 0.        ,  1.        ],\n",
       "       [ 1.        ,  0.        ],\n",
       "       [ 0.00512821,  0.99487179],\n",
       "       [ 1.        ,  0.        ],\n",
       "       [ 0.32748538,  0.67251462],\n",
       "       [ 0.98823529,  0.01176471],\n",
       "       [ 1.        ,  0.        ],\n",
       "       [ 0.        ,  1.        ],\n",
       "       [ 0.00598802,  0.99401198],\n",
       "       [ 0.85353535,  0.14646465],\n",
       "       [ 0.        ,  1.        ],\n",
       "       [ 1.        ,  0.        ],\n",
       "       [ 0.72251309,  0.27748691],\n",
       "       [ 0.95360825,  0.04639175],\n",
       "       [ 1.        ,  0.        ],\n",
       "       [ 0.73513514,  0.26486486],\n",
       "       [ 0.51764706,  0.48235294],\n",
       "       [ 0.        ,  1.        ],\n",
       "       [ 0.90123457,  0.09876543],\n",
       "       [ 0.        ,  1.        ],\n",
       "       [ 1.        ,  0.        ],\n",
       "       [ 0.87368421,  0.12631579],\n",
       "       [ 1.        ,  0.        ],\n",
       "       [ 1.        ,  0.        ],\n",
       "       [ 0.77837838,  0.22162162],\n",
       "       [ 0.12834225,  0.87165775],\n",
       "       [ 0.51412429,  0.48587571],\n",
       "       [ 0.24590164,  0.75409836],\n",
       "       [ 0.        ,  1.        ],\n",
       "       [ 0.88442211,  0.11557789],\n",
       "       [ 0.83522727,  0.16477273],\n",
       "       [ 0.00578035,  0.99421965],\n",
       "       [ 1.        ,  0.        ],\n",
       "       [ 1.        ,  0.        ],\n",
       "       [ 1.        ,  0.        ],\n",
       "       [ 0.        ,  1.        ],\n",
       "       [ 0.03954802,  0.96045198],\n",
       "       [ 0.94767442,  0.05232558],\n",
       "       [ 0.94054054,  0.05945946],\n",
       "       [ 1.        ,  0.        ],\n",
       "       [ 0.485     ,  0.515     ],\n",
       "       [ 1.        ,  0.        ],\n",
       "       [ 0.        ,  1.        ],\n",
       "       [ 0.98809524,  0.01190476],\n",
       "       [ 0.03664921,  0.96335079],\n",
       "       [ 1.        ,  0.        ],\n",
       "       [ 1.        ,  0.        ],\n",
       "       [ 1.        ,  0.        ],\n",
       "       [ 0.        ,  1.        ],\n",
       "       [ 0.95731707,  0.04268293],\n",
       "       [ 0.0052356 ,  0.9947644 ],\n",
       "       [ 0.06806283,  0.93193717],\n",
       "       [ 0.        ,  1.        ],\n",
       "       [ 0.        ,  1.        ],\n",
       "       [ 1.        ,  0.        ],\n",
       "       [ 1.        ,  0.        ],\n",
       "       [ 0.        ,  1.        ],\n",
       "       [ 1.        ,  0.        ],\n",
       "       [ 0.01190476,  0.98809524],\n",
       "       [ 1.        ,  0.        ],\n",
       "       [ 0.13375796,  0.86624204],\n",
       "       [ 0.        ,  1.        ],\n",
       "       [ 0.        ,  1.        ],\n",
       "       [ 0.        ,  1.        ],\n",
       "       [ 0.42328042,  0.57671958],\n",
       "       [ 0.1097561 ,  0.8902439 ],\n",
       "       [ 0.25116279,  0.74883721],\n",
       "       [ 1.        ,  0.        ],\n",
       "       [ 1.        ,  0.        ],\n",
       "       [ 0.18435754,  0.81564246],\n",
       "       [ 0.98857143,  0.01142857],\n",
       "       [ 0.        ,  1.        ],\n",
       "       [ 0.        ,  1.        ],\n",
       "       [ 1.        ,  0.        ],\n",
       "       [ 0.98333333,  0.01666667],\n",
       "       [ 0.36312849,  0.63687151],\n",
       "       [ 0.99489796,  0.00510204],\n",
       "       [ 1.        ,  0.        ],\n",
       "       [ 0.        ,  1.        ],\n",
       "       [ 1.        ,  0.        ],\n",
       "       [ 0.        ,  1.        ],\n",
       "       [ 0.0326087 ,  0.9673913 ],\n",
       "       [ 1.        ,  0.        ],\n",
       "       [ 1.        ,  0.        ],\n",
       "       [ 0.04210526,  0.95789474],\n",
       "       [ 0.65306122,  0.34693878]])"
      ]
     },
     "execution_count": 9,
     "metadata": {},
     "output_type": "execute_result"
    }
   ],
   "source": [
    "bag_clf.oob_decision_function_"
   ]
  },
  {
   "cell_type": "markdown",
   "metadata": {},
   "source": [
    "# Random Patches and Random Subspaces\n",
    "\n",
    "The `BaggingClassifier` class in Scikit-Learn supports sampling features. Feature sampling is controlled by the parameters `max_features` and `bootstrap_features`. These two hyperparameters work the same as `max_samples` and `bootstrap` for the instance sampling. When features, instead of instances, are sampled, each predictor is trained using a subset of the features. Sampling features is useful for dealing with high-dimensional inputs. \n",
    "\n",
    "+ Random Patches: Sampling of training instances and features\n",
    "+ Random Subspaces: Keeping all training instances but sampling features\n",
    "\n",
    "# Random Forests\n",
    "\n",
    "A Random Forest is an ensemble of Desicion Trees that are generally trained using bagging. Instead of the `BaggingClassifier` class, the class `RandomForestClassifier` is used for Decision Trees ensembles. The parameter `n_estimators` sets the number of trees in the forest. With only a few exceptions, the `RandomForestClassifier` has all the parameters from the `DecisionTreeClassifier` class to control how trees grow in the forest. \n",
    "\n",
    "The Random Forest algorithm searches for the best feature among a random subset of features when splitting a node instead of looking for the best feature from all the available features in the training set. This introduces randomness when growing the trees, so the resulting forest has greater tree diversity."
   ]
  },
  {
   "cell_type": "code",
   "execution_count": 10,
   "metadata": {},
   "outputs": [
    {
     "data": {
      "text/plain": [
       "0.92000000000000004"
      ]
     },
     "execution_count": 10,
     "metadata": {},
     "output_type": "execute_result"
    }
   ],
   "source": [
    "from sklearn.ensemble import RandomForestClassifier\n",
    "\n",
    "rnd_clf = RandomForestClassifier(n_estimators=500, max_leaf_nodes=16, n_jobs=-1)\n",
    "rnd_clf.fit(X_train, y_train)\n",
    "\n",
    "y_pred_rf = rnd_clf.predict(X_test)\n",
    "\n",
    "accuracy_score(y_test, y_pred_rf)"
   ]
  },
  {
   "cell_type": "markdown",
   "metadata": {},
   "source": [
    "## Extra-Trees\n",
    "\n",
    "To make random forests more random, it is possible to choose the threshods for each feature randomly instead of searching for the optimal threshold. This type of Random Forest is called *Extremely Randomized Trees* or Extra-Trees. This method is fastet to train than a regular Random Forest.\n",
    "\n",
    "The class in Scikit-Learn to create Extra-Trees is `ExtraTreesClassifier`. The hyperparameters are identical to the ones of the `RandomForestClassifier`. It is hard to tell in advance which model will perform better between Extra-Trees and Random Forest. The only certain way is to train both and compare them using cross-validation.\n",
    "\n",
    "## Feature Importance\n",
    "\n",
    "Another useful feature of Random Forests is the fact that the realative importance of each feature is calculated during training. The importance of each feature is determined by looking how much impurity is reduced in the nodes that use each feature. The contribution of each node is a weighted average, because the weight of each node is determined by the number of training samples in each node. \n",
    "\n",
    "This feature importance is calculated by Scikit-Learn during training and can be accessed using the `feature_importances_` variable. \n",
    "\n",
    "The fact that Random Forests are capable of calculating the importance of features, makes this model useful to understand which features matter the most."
   ]
  },
  {
   "cell_type": "code",
   "execution_count": 11,
   "metadata": {},
   "outputs": [
    {
     "name": "stdout",
     "output_type": "stream",
     "text": [
      "sepal length (cm) 0.103423125131\n",
      "sepal width (cm) 0.0238843710555\n",
      "petal length (cm) 0.436535935455\n",
      "petal width (cm) 0.436156568358\n"
     ]
    }
   ],
   "source": [
    "from sklearn.datasets import load_iris\n",
    "iris = load_iris()\n",
    "\n",
    "rnd_clf = RandomForestClassifier(n_estimators=500, n_jobs=-1)\n",
    "rnd_clf.fit(iris['data'], iris['target'])\n",
    "\n",
    "for name, score in zip(iris['feature_names'], rnd_clf.feature_importances_):\n",
    "    print(name, score)"
   ]
  },
  {
   "cell_type": "markdown",
   "metadata": {},
   "source": [
    "# Boosting\n",
    "\n",
    "In general, boosting is any ensemble method that combines weak learners into a stronger learner. The idea behind boosting is to train predictors in a sequence so that a predictor fixes the errors of its predecessor.\n",
    "\n",
    "## AdaBoost\n",
    "\n",
    "One way to make the preceding model better is to pay attention to the training instances that the previous model underfitted. This method is called AdaBoost (Adaptive Boosting) and makes the predictors in the sequence focus in the hard cases. \n",
    "\n",
    "At the beginning of the sequence, each instance weight $w^{(i)}$ is set to $\\frac{1}{m}$. Then, the first predictor is trained and the weighted error of the predictor $r_{1}$ is calculated on the training set.\n",
    "\n",
    "The equation for calculating the error of predictor $j$ is\n",
    "\n",
    "$r_{j} = \\frac{\\sum_{ \\text{Errors}} w^{(i)}}{\\sum_{i=1}^{m} w^{(i)}}$\n",
    "\n",
    "In the numerator, the sum goes only over the instances in which the predicted value differs from the target value in the training set.\n",
    "\n",
    "Then the predictor's weight $\\alpha_{j}$ is calculated using the equation\n",
    "\n",
    "$\\alpha_{j} = \\eta \\log \\frac{1-r_{j}}{r_{j}}$\n",
    "\n",
    "where $\\eta$ is the learning rate hyperparameter. This learning rate hyperparameter controls the weight given duuring training to wrong instances. It can be seen from the previous equation that the more accurate the predictor is, the higher its weight will be. If the predictor is more often wrong than right, its weight will be negative. \n",
    "\n",
    "Next, the instance weights have to be update using the following rules:\n",
    "\n",
    "+ $w^{(i)}_\\text{new} = w^{(i)}$ if prediction of instance i is correct\n",
    "+ $w^{(i)}_\\text{new} = w^{(i)}\\exp(\\alpha_{j})$ if prediction is incorrect\n",
    "\n",
    "According to these rules, the weight of misclassified instances is boosted while the weights of the correctly classified instances remain unchanged.\n",
    "\n",
    "After all the weights are updated, the weights are normalized dividing them by $\\sum_{i=1}^{m}w^{(i)}$.\n",
    "\n",
    "Then, a new predictor is trained using the new weights and the whole process is repeated until the number of desired predictors is reached or when the perfect predictor is found. \n",
    "\n",
    "The predictions in AdaBoost are calculated by predicting the class in each predictor of the sequence. Then, the predicted class is chosen by a majority of weighted votes from all the predictors. The vote from each predictor is weighted using $\\alpha_{j}$ of each predictor. \n",
    "\n",
    "In Scikit-Learn, SAMME is used instead of AdaBoost. SAMME is the multiclass version of AdaBoost, so both are equivalent when there are only two classes. Furthermore, if the predictors in the ensemble can predict probabilities, a variant of SAMME called SAMME.R can be used. Using SAMME.R is beneficial because it generally performs better. \n",
    "\n",
    "The code below trains 200 Decision Stumps (or Decision Trees with max_depth = 1) using the `AdaBoostClassifier` class."
   ]
  },
  {
   "cell_type": "code",
   "execution_count": 12,
   "metadata": {},
   "outputs": [
    {
     "data": {
      "text/plain": [
       "0.89600000000000002"
      ]
     },
     "execution_count": 12,
     "metadata": {},
     "output_type": "execute_result"
    }
   ],
   "source": [
    "from sklearn.ensemble import AdaBoostClassifier\n",
    "\n",
    "ada_clf = AdaBoostClassifier(\n",
    "    DecisionTreeClassifier(max_depth=1), n_estimators=200,\n",
    "    algorithm='SAMME.R', learning_rate=0.5\n",
    ")\n",
    "\n",
    "ada_clf.fit(X_train, y_train)\n",
    "y_pred = ada_clf.predict(X_test)\n",
    "\n",
    "accuracy_score(y_test, y_pred)"
   ]
  },
  {
   "cell_type": "markdown",
   "metadata": {},
   "source": [
    "To fix overfitting in an AdaBoost ensemble, the number of estimator can be reduced as well as imposing a stronger regularizarion for the base estimator."
   ]
  },
  {
   "cell_type": "code",
   "execution_count": null,
   "metadata": {
    "collapsed": true
   },
   "outputs": [],
   "source": []
  }
 ],
 "metadata": {
  "kernelspec": {
   "display_name": "Python 3",
   "language": "python",
   "name": "python3"
  },
  "language_info": {
   "codemirror_mode": {
    "name": "ipython",
    "version": 3
   },
   "file_extension": ".py",
   "mimetype": "text/x-python",
   "name": "python",
   "nbconvert_exporter": "python",
   "pygments_lexer": "ipython3",
   "version": "3.5.3"
  }
 },
 "nbformat": 4,
 "nbformat_minor": 2
}

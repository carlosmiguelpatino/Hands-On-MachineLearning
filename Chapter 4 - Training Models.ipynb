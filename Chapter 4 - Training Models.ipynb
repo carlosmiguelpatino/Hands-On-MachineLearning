{
 "cells": [
  {
   "cell_type": "markdown",
   "metadata": {},
   "source": [
    "# Entrenando Modelos"
   ]
  },
  {
   "cell_type": "markdown",
   "metadata": {},
   "source": [
    "## Regresión Lineal"
   ]
  },
  {
   "cell_type": "markdown",
   "metadata": {},
   "source": [
    "### Ecuación Normal"
   ]
  },
  {
   "cell_type": "markdown",
   "metadata": {},
   "source": [
    "Para encontrar el valor de $\\theta$ que minimiza la función de costo, se puede usar el método de la ecuación normal.\n",
    "\n",
    "$\\hat{\\theta} = \\left( \\textbf{X}^{T} \\cdot \\textbf{X}\\right)^{-1}\\cdot \\textbf{X}^{T} \\cdot \\textbf{y} $\n",
    "\n",
    "en donde $\\hat{\\theta}$ es el valor de los parámetros $\\theta$ que minimizan la función de costo y $\\textbf{y}$ es el vector de valores objetivo."
   ]
  },
  {
   "cell_type": "markdown",
   "metadata": {},
   "source": [
    "Se genera un set de puntos agregándoles un poco de ruido para posteriormente hacer una regresión lineal usando la ecuación normal."
   ]
  },
  {
   "cell_type": "code",
   "execution_count": 19,
   "metadata": {
    "collapsed": true
   },
   "outputs": [],
   "source": [
    "import numpy as np \n",
    "\n",
    "X = 2*np.random.rand(100, 1)\n",
    "y = 4 + 3*X + np.random.randn(100, 1)"
   ]
  },
  {
   "cell_type": "code",
   "execution_count": 20,
   "metadata": {},
   "outputs": [
    {
     "data": {
      "text/plain": [
       "array([[ 4.23420127],\n",
       "       [ 2.76439881]])"
      ]
     },
     "execution_count": 20,
     "metadata": {},
     "output_type": "execute_result"
    }
   ],
   "source": [
    "X_b = np.c_[np.ones((100, 1)), X]\n",
    "theta_best = np.linalg.inv(X_b.T.dot(X_b)).dot(X_b.T).dot(y)\n",
    "theta_best"
   ]
  },
  {
   "cell_type": "code",
   "execution_count": 21,
   "metadata": {},
   "outputs": [
    {
     "data": {
      "text/plain": [
       "[<matplotlib.lines.Line2D at 0x7febd50d4748>]"
      ]
     },
     "execution_count": 21,
     "metadata": {},
     "output_type": "execute_result"
    },
    {
     "data": {
      "image/png": "[encoded data removed]",
      "text/plain": [
       "<matplotlib.figure.Figure at 0x7febaaca95c0>"
      ]
     },
     "metadata": {},
     "output_type": "display_data"
    }
   ],
   "source": [
    "X_new = np.array([[0], [2]])\n",
    "X_new_b = np.c_[np.ones((2,1)), X_new]\n",
    "y_predict = X_new_b.dot(theta_best)\n",
    "\n",
    "import matplotlib.pyplot as plt\n",
    "%matplotlib inline\n",
    "\n",
    "plt.plot(X_new, y_predict, 'r-')\n",
    "plt.plot(X, y, 'b.')"
   ]
  },
  {
   "cell_type": "markdown",
   "metadata": {},
   "source": [
    "Se debe tener en cuenta que el método de la ecuación normal es depende de invertir una matriz. Invertir una matriz tiene una complejidad computacional $O(n^{3})$. Esto hace que este método sea muy lento para sets de datos que tengan gran número de variables. Sin embargo, la linealidad del método hace que este método maneje sets con gran número de instancias de forma eficiente."
   ]
  },
  {
   "cell_type": "markdown",
   "metadata": {},
   "source": [
    "## Gradient Descent"
   ]
  },
  {
   "cell_type": "markdown",
   "metadata": {},
   "source": [
    "La idea del gradient descent es encontrar el mínimo de la función de costo avanzando hacia la dirección en la que el gradiente (el cambio) sea el mayor posible en la dirección descendente. El proceso se repite hasta lograr convergencia en un valor mínimo.\n",
    "\n",
    "**Nota:** Para asegurarse que gradient descent funcionará de forma óptima, es conveniente escalar las variables del set de datos. De lo contrario, el algoritmo tomará más tiempo en converger."
   ]
  },
  {
   "cell_type": "markdown",
   "metadata": {},
   "source": [
    "### Batch Gradient Descent"
   ]
  },
  {
   "cell_type": "markdown",
   "metadata": {},
   "source": [
    "El método de Batch Gradient Descent calcula el gradiente de la función de costo usando todo el set de datos. El uso del set de datos completos hace que este algoritmo sea lento para sets de entrenamiento grandes. Como el objetivo es encontrar el grupo de parámetros $\\theta$ que optimice la función de costo, la derivada parcial de la función se hace respecto a todos los parámetros $\\theta_{j}$. Una vez se encuentra el gradiente respecto a todos los parámetros $\\theta$, se resta este gradiente al valor actual de $\\theta$. De esta manera se llega poco a poco al valor ideal de los parámetros del modelo.\n",
    "\n",
    "$\\theta^{(\\text{nuevo})} = \\theta - \\eta \\nabla_{\\theta}\\text{MSE}(\\theta)$\n",
    "\n",
    "En la ecuación anterior, $\\eta$ es el factor de aprendizaje (learning rate). Este parámetro regula que tan grande es el paso para cada iteración en la búsqueda de los parámetros óptimos. Si el paso es muy pequeño, ie. $\\eta$ es pequeño, el modelo tardará mucho en converger. Por el contrario, si $\\eta$ es muy grande, el algoritmo se saltará el mínimo de la función.\n",
    "\n",
    "A continuación está una implementación de Batch Gradient Descent para una regresión lineal inicializando los parámetros $\\theta$ de forma aleatoria. (Se debe tener en cuenta que en la implemntación se calculó la derivada de la función de costo de forma analítica.)"
   ]
  },
  {
   "cell_type": "code",
   "execution_count": 22,
   "metadata": {
    "collapsed": true
   },
   "outputs": [],
   "source": [
    "eta = 0.1\n",
    "n_iterations = 100\n",
    "m = 100\n",
    "\n",
    "theta = np.random.randn(2,1)\n",
    "\n",
    "for iteration in range(n_iterations):\n",
    "    gradients = 2/m * X_b.T.dot(X_b.dot(theta) - y)\n",
    "    theta = theta - eta*gradients"
   ]
  },
  {
   "cell_type": "markdown",
   "metadata": {},
   "source": [
    "El valor apropiado para $\\eta$ se puede escoger usando un Grid Search. Además se debe escoger un número adecuado de iteraciones para que el modelo no tarde mucho en converger. Por lo general, se define un valor de tolerancia (diferente de cero pero pequeño) para la norma del vector gradiente. Cuando se llegue a ese valor, se detienen la iteraciones del Gradient Descent, ya que se ha llegado tan cerca como se quiere a optimizar la función de costo.\n",
    "\n",
    "Por lo general, Batch Gradient Descent tiene una tasa de convergencia inversamente del orden de $O\\left(\\frac{1}{\\text{iteraciones}}\\right)$. Es decir, si se quiere tener una tolerancia 10 veces menor, se deberán correr 10 veces más iteraciones."
   ]
  },
  {
   "cell_type": "markdown",
   "metadata": {},
   "source": [
    "### Stochastic Gradient Descent"
   ]
  },
  {
   "cell_type": "markdown",
   "metadata": {},
   "source": [
    "Para solucionar el problema de Batch Gradient Descent al usar todo el set de datos, se plantean soluciones como el Stochastic Gradient Descent. El enfoque de este método es escoger una instancia del set de datos de forma aleatoria para calcular el gradiente. Como se están usando un menor número de instancias, este método es considerablemente más rápido que Batch Gradient Descent para sets de datos grandes.\n",
    "\n",
    "Sin embargo, dada la naturaleza estocástica del algoritmo, no seguirá un camino recto hacia el mínimo de la función. Por el contrario, dará saltos alrededor del espacio de parámetros hasta llegar muy cerca al mínimo de la función. Es por esto que el Stochastic Gradient Descent encuentra valores buenos de $\\theta$ pero no óptimos.\n",
    "\n",
    "Una ventaja adicional que tiene el Stochastic Gradient Descent es que, para funciones de costo irregulares, puede saltar mínimos locales. Esto hace que Stochastic Gradient Descent tenga más opciones de encontrar el mínimo global que el Batch Gradient Descent. \n",
    "\n",
    "Una solución para que el algortimo no empiece a saltar de un lado a otro cuando está cerca del mínimo global es ir reduciendo gradualmente la tasa de aprendizaje $\\eta$. De esta manera se logra que al principio de la iteraciones se tengan pasos grandes pero, a medida que el camino se acerca al mínimo, los pasos van reduciendo su tamaño. Este método se denomina aprendizaje programado (learning schedule).\n",
    "\n",
    "A continuación está una implementación de Stochastic Gradient Descent usando aprendizaje programado."
   ]
  },
  {
   "cell_type": "code",
   "execution_count": 23,
   "metadata": {
    "collapsed": true
   },
   "outputs": [],
   "source": [
    "n_epochs = 50\n",
    "t0, t1 = 5, 50\n",
    "\n",
    "def learning_schedule(t):\n",
    "    return t0/(t+t1)\n",
    "\n",
    "theta = np.random.randn(2,1)\n",
    "\n",
    "for epoch in range(n_epochs):\n",
    "    for i in range(m):\n",
    "        random_index = np.random.randint(m)\n",
    "        xi = X_b[random_index:random_index+1]\n",
    "        yi = y[random_index:random_index+1]\n",
    "        gradients = 2*xi.T.dot(xi.dot(theta) - yi)\n",
    "        eta = learning_schedule(epoch*m + i)\n",
    "        theta = theta - eta*gradients"
   ]
  },
  {
   "cell_type": "markdown",
   "metadata": {},
   "source": [
    "Este algoritmo también se puede implementar usando Scikit-Learn con 50 epochs y usando el aprendizaje programado por defecto."
   ]
  },
  {
   "cell_type": "code",
   "execution_count": 24,
   "metadata": {},
   "outputs": [
    {
     "data": {
      "text/plain": [
       "SGDRegressor(alpha=0.0001, average=False, epsilon=0.1, eta0=0.1,\n",
       "       fit_intercept=True, l1_ratio=0.15, learning_rate='invscaling',\n",
       "       loss='squared_loss', n_iter=50, penalty=None, power_t=0.25,\n",
       "       random_state=None, shuffle=True, verbose=0, warm_start=False)"
      ]
     },
     "execution_count": 24,
     "metadata": {},
     "output_type": "execute_result"
    }
   ],
   "source": [
    "from sklearn.linear_model import SGDRegressor\n",
    "\n",
    "sgd_reg = SGDRegressor(n_iter=50, penalty = None, eta0 = 0.1)\n",
    "sgd_reg.fit(X, y.ravel())"
   ]
  },
  {
   "cell_type": "markdown",
   "metadata": {},
   "source": [
    "### Mini-batch Gradient Descent"
   ]
  },
  {
   "cell_type": "markdown",
   "metadata": {},
   "source": [
    "Mini-batch gradient descent es el punto medio entre los dos métodos anteriores. En vez de escoger el set de datos completo comom en Batch Gradient Descent, o escoger solo una instancia como en Stochastic Gradient Descent, este método escoge un grupo pequeño de instancias llamado mini-batch. "
   ]
  },
  {
   "cell_type": "markdown",
   "metadata": {},
   "source": [
    "## Regresión Polinómica"
   ]
  },
  {
   "cell_type": "markdown",
   "metadata": {},
   "source": [
    "Los modelos lineales se pueden usar para hacer regresiones de modelos no lineales usando regresión polinómica. Este método consiste en agregar como variables potencias de las variables originales."
   ]
  },
  {
   "cell_type": "code",
   "execution_count": 25,
   "metadata": {
    "collapsed": true
   },
   "outputs": [],
   "source": [
    "m = 100\n",
    "X = 6*np.random.rand(m,1) - 3\n",
    "y = 0.5*X**2 + X + 2 + np.random.randn(m,1)"
   ]
  },
  {
   "cell_type": "markdown",
   "metadata": {},
   "source": [
    "La forma óptima de agregar potencias de las variables originales es usar la clase de Scikit-Learn `PolynomialFeatures`. El set resultante de la transformación es la variable original y su cuadrado."
   ]
  },
  {
   "cell_type": "code",
   "execution_count": 26,
   "metadata": {},
   "outputs": [
    {
     "data": {
      "text/plain": [
       "(array([ 2.00838247]), array([[ 0.96624269,  0.51859837]]))"
      ]
     },
     "execution_count": 26,
     "metadata": {},
     "output_type": "execute_result"
    }
   ],
   "source": [
    "from sklearn.preprocessing import PolynomialFeatures\n",
    "from sklearn.linear_model import LinearRegression\n",
    "\n",
    "poly_features = PolynomialFeatures(degree = 2, include_bias = False)\n",
    "X_poly = poly_features.fit_transform(X)\n",
    "\n",
    "lin_reg = LinearRegression()\n",
    "lin_reg.fit(X_poly, y)\n",
    "lin_reg.intercept_, lin_reg.coef_"
   ]
  },
  {
   "cell_type": "markdown",
   "metadata": {
    "collapsed": true
   },
   "source": [
    "## Curvas de Aprendizaje"
   ]
  },
  {
   "cell_type": "markdown",
   "metadata": {},
   "source": [
    "Las curvas de aprendizaje son curvas del desempeño de del modelo en los sets de entrenamiento y validación en función del tamaño del set de entrenamiento. En primer lugar, están las curvas de aprendizaje para un modelo lineal."
   ]
  },
  {
   "cell_type": "code",
   "execution_count": 27,
   "metadata": {
    "collapsed": true
   },
   "outputs": [],
   "source": [
    "from sklearn.metrics import mean_squared_error\n",
    "from sklearn.model_selection import train_test_split\n",
    "\n",
    "def plot_learning_curves(model, X, y):\n",
    "    X_train, X_val, y_train, y_val = train_test_split(X, y, test_size = 0.2)\n",
    "    train_errors, val_errors = [], []\n",
    "    \n",
    "    for m in range(1, len(X_train)):\n",
    "        model.fit(X_train[:m], y_train[:m])\n",
    "        y_train_predict = model.predict(X_train[:m])\n",
    "        y_val_predict = model.predict(X_val[:m])\n",
    "        train_errors.append(mean_squared_error(y_train_predict, y_train[:m]))\n",
    "        val_errors.append(mean_squared_error(y_val_predict, y_val[:m]))\n",
    "        \n",
    "    plt.plot(np.sqrt(train_errors), 'r-+', linewidth=2, label='Training Set')\n",
    "    plt.plot(np.sqrt(val_errors), 'b-', linewidth=3, label='Validation Set')\n",
    "    plt.legend(loc = 'best')\n",
    "    plt.title('Learning Curve')\n",
    "    plt.ylabel('RMSE')\n",
    "    plt.xlabel('Training Set Size')\n",
    "    plt.ylim((0,3))\n",
    "    "
   ]
  },
  {
   "cell_type": "code",
   "execution_count": 28,
   "metadata": {},
   "outputs": [
    {
     "data": {
      "image/png": "[encoded data removed]",
      "text/plain": [
       "<matplotlib.figure.Figure at 0x7febaaaaba20>"
      ]
     },
     "metadata": {},
     "output_type": "display_data"
    }
   ],
   "source": [
    "lin_reg = LinearRegression()\n",
    "plot_learning_curves(lin_reg, X, y)"
   ]
  },
  {
   "cell_type": "markdown",
   "metadata": {},
   "source": [
    "La curva para el set de entrenamiento muestra un incremento del error a medida que aumenta el número de instancias. Esto se debe a que entre más instancias se agreguen, es más difícil para el modelo hacer una regresión perfecta de todos los puntos. El error aumenta hasta llegar hasta un punto en el que la curva es aproximadamente plana. A partir de este momento pareciera que agregar más instancias al set de entrenamiento no ayudaría mucho a mejorar el desempeño del modelo.\n",
    "\n",
    "Para el caso de la curva para el set de validación, la curva inicia con un RMSE alto y va disminyendo a medida que el set de validación tiene más instancias. Esto se debe a que el modelo no generaliza adecuadamente cuando solo tiene unas pocas instancias disponibles. A pesar de que el error en el set de validación disminuye a medida que el tamaño del set crece, se llega a una curva plana con un error similar al de la curva del set de entrenamiento.\n",
    "\n",
    "Este par de curvas es típico de un modelo que está sufriendo de **underfitting. Las dos curvas llegan a un plateau, tienen un valor cercano y un error alto.** \n",
    "\n",
    "Ahora, se analiza la regresión usando un polinomio de grado 10."
   ]
  },
  {
   "cell_type": "code",
   "execution_count": 29,
   "metadata": {},
   "outputs": [
    {
     "data": {
      "image/png": "[encoded data removed]",
      "text/plain": [
       "<matplotlib.figure.Figure at 0x7febaab485f8>"
      ]
     },
     "metadata": {},
     "output_type": "display_data"
    }
   ],
   "source": [
    "from sklearn.pipeline import Pipeline\n",
    "\n",
    "polynomial_regression = Pipeline((\n",
    "    ('poly_features', PolynomialFeatures(degree=10, include_bias = False)),\n",
    "    ('lin_reg', LinearRegression())\n",
    "\n",
    "))\n",
    "\n",
    "plot_learning_curves(polynomial_regression, X, y)"
   ]
  },
  {
   "cell_type": "markdown",
   "metadata": {},
   "source": [
    "Para el caso del polinomio de grado 10, el plateau de las curvas ocurre en un error menor al del modelo lineal. Además, hay un espacio en las dos curvas lo que indicaría que el modelo tiene un mejor desempeño en el modelo de entrenamiento que en el de validación. Esta forma de curvas es un ejemplo de **overfitting**. Para este caso, el desempeño en el set de validación mejoraría si se usan más instancias en el entrenamiento. Usar más instancias de entrenamiento hace que mejore un modelo que está sufriendo de overfitting."
   ]
  },
  {
   "cell_type": "markdown",
   "metadata": {},
   "source": [
    "### El Bias/Variance Tradeoff\n",
    "\n",
    "El error en la generalización de un modelo se puede expresar como la suma de tres errores muy diferentes:\n",
    "\n",
    "*Bias*\n",
    "\n",
    "Esta parte del error en la generalización se debe a asunciones incorrectas. Por ejemplo, cuando alguien asume que un set de datos tiene una relación lineal cuando en realidad es cuadrática. Un modelo con bias alto es más propenso a sufrir de **underfitting**.\n",
    "\n",
    "*Variance*\n",
    "\n",
    "Esta parte se debe a sensibilidad excesiva en el modelo a variaciones pequeñas en los datos de entrenamiento. Un modelo con muchos grados de libertad es propenso a tener una varianza alta, por lo que también es propenso a sufrir de **overfitting.** \n",
    "\n",
    "*Error Irreducible*\n",
    "\n",
    "Esta parte del error se debe a ruido de los datos. La única forma de reducir este tipo de error es limpiar los datos.\n",
    "\n",
    "**Aumentar la complejidad de un modelo aumentará su varianza y reducirá su bias. En el caso contrario, reducir la complejidad de un modelo incrementa su bias y disminuye su varianza. Es por esto que se denomina un tradeoff**"
   ]
  },
  {
   "cell_type": "markdown",
   "metadata": {},
   "source": [
    "## Modelos Lineales Regularizados\n",
    "\n",
    "Una forma de combatir el overfitting en un modelo es reducir sus grados de libertad. Para regularizar un modelo existen métodos como Ridge Regression, Lasso Regression y Elastic Net.\n",
    "\n",
    "### Ridge Regression\n",
    "\n",
    "La idea del Ridge Regression es agregar un término de regularización de la forma $\\alpha \\Sigma_{i = 1}^{n}\\theta_{i}^{2}$. Este término fuerza al algoritmo a mantener los pesos de los atributos lo más pequeños posible. El hiperparámetro $\\alpha$ controla cuanto se quiere regularizar el modelo. **Una vez se entrena el modelo, se debe evaluar con la función de costo sin el término de regularización.** \n",
    "\n",
    "-------\n",
    "\n",
    "Es común el uso de funciones de costo diferentes en la etapa de entrenamiento y en la de prueba. Una razón para esto, diferente a la regularización, es que en el entrenamiento se deben escoger funciones cuya derivada sea lo más fácil posible de optimizar. En la fase de prueba se debe escoger una función de costo que sea lo más parecida posible al objetivo final del modelo. \n",
    "\n",
    "------\n",
    "\n",
    "$J(\\theta) = \\text{MSE}(\\theta) + \\alpha \\frac{1}{2} \\sum_{i=1}^{n} \\theta_{i}^{2}$\n",
    "\n",
    "Se debe notar en la ecuación anterior que el término de bias no se regulariza.\n",
    "\n",
    "\n",
    "Si se define el vector $\\textbf{w} = (\\theta_{1}, ... , \\theta_{n}$, entonces el término de regularización corresponde a $\\frac{1}{2}(\\left \\lVert \\textbf{w} \\right \\rVert_{2})^{2}$. $\\lVert \\cdot \\rVert_{2}$ corresponde a la norma $\\mathcal{l}_{2}$ del vector de pesos. \n",
    "\n",
    "** Es importante hacerle scaling a los datos antes de ejecutar un Ridge Regression, ya que este tipo de regularización es sensible a los atributos de entrada.**"
   ]
  },
  {
   "cell_type": "code",
   "execution_count": 30,
   "metadata": {},
   "outputs": [
    {
     "data": {
      "text/plain": [
       "array([[ 4.89470608]])"
      ]
     },
     "execution_count": 30,
     "metadata": {},
     "output_type": "execute_result"
    }
   ],
   "source": [
    "from sklearn.linear_model import Ridge\n",
    "\n",
    "ridge_reg = Ridge(alpha = 1, solver = 'cholesky')\n",
    "ridge_reg.fit(X, y)\n",
    "ridge_reg.predict([[1.5]])"
   ]
  },
  {
   "cell_type": "code",
   "execution_count": 31,
   "metadata": {},
   "outputs": [
    {
     "data": {
      "text/plain": [
       "array([ 3.82787662])"
      ]
     },
     "execution_count": 31,
     "metadata": {},
     "output_type": "execute_result"
    }
   ],
   "source": [
    "sgd_reg = SGDRegressor(penalty = 'l2')\n",
    "sgd_reg.fit(X, y.ravel())\n",
    "sgd_reg.predict([[1.5]])"
   ]
  },
  {
   "cell_type": "markdown",
   "metadata": {},
   "source": [
    "El parámetro `penalty` indica que el término de regularización a usar es la mitad del cuadrado de la norma $l_{2}$ del vector de pesos, equivalente a Ridge Regression."
   ]
  },
  {
   "cell_type": "markdown",
   "metadata": {
    "collapsed": true
   },
   "source": [
    "### Lasso Regression\n",
    "\n",
    "Least Absolute and Selection Operator Regression es otra versión regularizada de la regresión lineal. Este tipo de regresión se diferencia de Ridge Regression en que usa la norma $l_{1}$ en lugar de la mitad de la norma $l_{2}$.\n",
    "\n",
    "$J(\\theta) = \\text{MSE}(\\theta) + \\alpha \\sum_{i=1}^{n}\\left| \\theta_{i} \\right|$\n",
    "\n",
    "Una característica importante del Lasso Regression es que elimina completamentamente los pesos de los atributos menos importantes. \n",
    "\n",
    "La función de costo de Lasso no es diferenciable cuando $\\theta_{i} = 0$.\n",
    "\n",
    "La implentación de Lasso usando Scikit-Learn se hace usando la clase `Lasso`. Alternativamente, se puede usar `SGDRegressor(penalty = \"l1\")`."
   ]
  },
  {
   "cell_type": "code",
   "execution_count": 32,
   "metadata": {},
   "outputs": [
    {
     "data": {
      "text/plain": [
       "array([ 4.84162449])"
      ]
     },
     "execution_count": 32,
     "metadata": {},
     "output_type": "execute_result"
    }
   ],
   "source": [
    "from sklearn.linear_model import Lasso\n",
    "lasso_reg = Lasso(alpha = 0.1)\n",
    "lasso_reg.fit(X,y)\n",
    "lasso_reg.predict([[1.5]])"
   ]
  },
  {
   "cell_type": "markdown",
   "metadata": {},
   "source": [
    "### Elastic Net\n",
    "\n",
    "Elastic Net es el punto medio entre Ridge Regression y Lasso Regression. Para lograr esto se crea una función de costo que sea una mezcla de las funciones de Ridge y Lasso.\n",
    "\n",
    "$J(\\theta) = \\text{MSE}(\\theta) + r\\alpha \\sum_{i=1}^{n} \\left | \\theta \\right | + \\frac{1-r}{2} \\alpha \\sum_{i=1}^{n} \\theta^{2}_{i}$\n",
    "\n",
    "Cuando se sospeche que solo algunos atributos son relevantes, se debe preferir usar Lasso o Elastic Net. En general, se prefiere usar Elastic Net en vez de Lasso, ya que la segunda tiene problemas cuando el número de variables es mayor al número de instancias o cuando hay varias variables que están fuertemente correlacionadas.\n",
    "\n",
    "En la implementación de Elastic de sklearn se $r$ corresponde a `l1_ratio`."
   ]
  },
  {
   "cell_type": "code",
   "execution_count": 33,
   "metadata": {},
   "outputs": [
    {
     "data": {
      "text/plain": [
       "array([ 4.84527223])"
      ]
     },
     "execution_count": 33,
     "metadata": {},
     "output_type": "execute_result"
    }
   ],
   "source": [
    "from sklearn.linear_model import ElasticNet\n",
    "elastic_net = ElasticNet(alpha = 0.1, l1_ratio=0.5)\n",
    "elastic_net.fit(X,y)\n",
    "elastic_net.predict([[1.5]])"
   ]
  },
  {
   "cell_type": "markdown",
   "metadata": {},
   "source": [
    "### Detención Temprana\n",
    "\n",
    "Una forma de regularizar algoritmos iterativos es detener las iteraciones una vez se alcance un mínimo en el error en el set de validación. Por lo general, a medida que se entrena el algoritmo con más datos, el error en el set de validación tiende a disminuir. Sin embargo, se llega a un punto en el que este error empieza a aumentar.\n",
    "\n",
    "En la siguiente implementación se establece el argumento `warm_start=True`. Con esta función, el modelo sigue entrenando la función `fit()` desde donde terminó anteriormente en vez de iniciar desde ceros.\n",
    "\n",
    "Notar la definición de época (epoch) dereivada de la implementación de algoritmo: veces que se entrena el algoritmo sobre el set de entrenamiento. También notar el uso de la función clone para \"clonar\" el mejor modelo.\n",
    "\n",
    "```python\n",
    "\n",
    "from sklearn.base import clone\n",
    "\n",
    "sgd_reg = SGDRegressor(n_iter=1, warm_start=True, penalty=None, learning_rate='constant', eta0=0.0005)\n",
    "\n",
    "minimum_value_error = float('inf')\n",
    "best_epoch = None\n",
    "best_model = None\n",
    "for epoch in range(1000):\n",
    "    sgd_reg.fit(X_train_poly_scaled, y_train)\n",
    "    y_val_predict = sgd_reg.predict(X_val_poly_scaled)\n",
    "    val_error = mean_squared_error(y_val_predict, y_val)\n",
    "    \n",
    "    if val_error < minimum_value_error:\n",
    "        minimum_value_error = val_error\n",
    "        best_epoch = epoch\n",
    "        best_model = clone(sgd_reg)\n",
    "\n",
    "\n",
    "```"
   ]
  },
  {
   "cell_type": "markdown",
   "metadata": {},
   "source": [
    "## Regresión Logística\n",
    "\n",
    "### Estimación de Probabilidades\n",
    "\n",
    "La idea principal de la regresión logística es similar a la de la regresión similar: calcular una suma ponderada de las variables de entrada. El paso adicional en este modelo es que, en vez de retornar directamente la suma ponderada de las variables, retorna el logístico del resultado del cálculo de variables lineal. \n",
    "\n",
    "$\\hat{p} = h_{\\theta}\\textbf(x) = \\sigma(\\theta^{T} \\cdot \\textbf{x})$\n",
    "\n",
    "Por lo general, la función $\\sigma$ es la función sigmoide\n",
    "\n",
    "$\\theta(t) = \\frac{1}{1 + exp(-t)}$\n",
    "\n",
    "que toma valores entre 0 y 1. \n",
    "\n",
    "Para fines de clasificación, una instancia se toma de una clase si $\\sigma$ toma un valor mayor a un número umbral.\n",
    "\n",
    "### Funciones de Costo y Entrenamiento\n",
    "\n",
    "La forma de entrenar un modelo de regresión logística es ajustar $\\theta$ de tal forma que $\\sigma$ retorne valores cercanos a 1 para clases positivas y a 0 para clases negativas. Teniendo en cuenta lo anterior, la función de costo para la regresión logística se define como\n",
    "\n",
    "$J(\\theta) = -\\frac{1}{m} \\sum_{i=1}^{m} \\left[ y^{(i)} \\log\\left(\\hat{p}^(i)\\right) + \\left ( 1- y^{(i)}\\right) \\log \\left(1-\\hat{p}^{(i)} \\right) \\right]$\n",
    "\n",
    "La función de costo $J(\\theta)$ se define de esta manera para penalizar de forma significativa cuando se clasifica de forma errónea una clase. Por ejemplo, la parte de la función de costo que corresponde a la clase positiva es $y^{(i)} \\log\\left(\\hat{p}^(i)\\right)$. Si $\\hat{p} \\rightarrow 1$, ie se está clasificando correctamente la clase, la función $\\log(\\hat{p}) \\rightarrow 0$. Por el contrario, si $\\hat{p} \\rightarrow 0$, $\\log(\\hat{p}) \\rightarrow \\infty$. Es decir, se tendrá una penalización grande por clasificar de forma errónea la clase.\n",
    "\n",
    "Una de las ventajas que tiene esta función de costo es que es convexa. Esto garantiza que un algortimo de optimización podrá encontrar el mínimo global de la función. La derivada de $J(\\theta)$ respecto a $\\theta_{j}$ está definida como\n",
    "\n",
    "$\\frac{\\partial}{\\partial \\theta_{j}} J(\\theta) = \\frac{1}{m}\\sum_{i=1}^{m} \\left(\\sigma \\left ( \\theta^{T} \\cdot \\textbf{x}^(i) \\right ) - y^{(i)} \\right ) x_{j}^{(i)}$\n",
    "\n",
    "### Fronteras de Decisión\n",
    "\n",
    "A continuación de construye un clasificador para diferenciar entre diferentes especies de flores."
   ]
  },
  {
   "cell_type": "code",
   "execution_count": 40,
   "metadata": {},
   "outputs": [
    {
     "name": "stdout",
     "output_type": "stream",
     "text": [
      "Iris Plants Database\n",
      "====================\n",
      "\n",
      "Notes\n",
      "-----\n",
      "Data Set Characteristics:\n",
      "    :Number of Instances: 150 (50 in each of three classes)\n",
      "    :Number of Attributes: 4 numeric, predictive attributes and the class\n",
      "    :Attribute Information:\n",
      "        - sepal length in cm\n",
      "        - sepal width in cm\n",
      "        - petal length in cm\n",
      "        - petal width in cm\n",
      "        - class:\n",
      "                - Iris-Setosa\n",
      "                - Iris-Versicolour\n",
      "                - Iris-Virginica\n",
      "    :Summary Statistics:\n",
      "\n",
      "    ============== ==== ==== ======= ===== ====================\n",
      "                    Min  Max   Mean    SD   Class Correlation\n",
      "    ============== ==== ==== ======= ===== ====================\n",
      "    sepal length:   4.3  7.9   5.84   0.83    0.7826\n",
      "    sepal width:    2.0  4.4   3.05   0.43   -0.4194\n",
      "    petal length:   1.0  6.9   3.76   1.76    0.9490  (high!)\n",
      "    petal width:    0.1  2.5   1.20  0.76     0.9565  (high!)\n",
      "    ============== ==== ==== ======= ===== ====================\n",
      "\n",
      "    :Missing Attribute Values: None\n",
      "    :Class Distribution: 33.3% for each of 3 classes.\n",
      "    :Creator: R.A. Fisher\n",
      "    :Donor: Michael Marshall (MARSHALL%PLU@io.arc.nasa.gov)\n",
      "    :Date: July, 1988\n",
      "\n",
      "This is a copy of UCI ML iris datasets.\n",
      "http://archive.ics.uci.edu/ml/datasets/Iris\n",
      "\n",
      "The famous Iris database, first used by Sir R.A Fisher\n",
      "\n",
      "This is perhaps the best known database to be found in the\n",
      "pattern recognition literature.  Fisher's paper is a classic in the field and\n",
      "is referenced frequently to this day.  (See Duda & Hart, for example.)  The\n",
      "data set contains 3 classes of 50 instances each, where each class refers to a\n",
      "type of iris plant.  One class is linearly separable from the other 2; the\n",
      "latter are NOT linearly separable from each other.\n",
      "\n",
      "References\n",
      "----------\n",
      "   - Fisher,R.A. \"The use of multiple measurements in taxonomic problems\"\n",
      "     Annual Eugenics, 7, Part II, 179-188 (1936); also in \"Contributions to\n",
      "     Mathematical Statistics\" (John Wiley, NY, 1950).\n",
      "   - Duda,R.O., & Hart,P.E. (1973) Pattern Classification and Scene Analysis.\n",
      "     (Q327.D83) John Wiley & Sons.  ISBN 0-471-22361-1.  See page 218.\n",
      "   - Dasarathy, B.V. (1980) \"Nosing Around the Neighborhood: A New System\n",
      "     Structure and Classification Rule for Recognition in Partially Exposed\n",
      "     Environments\".  IEEE Transactions on Pattern Analysis and Machine\n",
      "     Intelligence, Vol. PAMI-2, No. 1, 67-71.\n",
      "   - Gates, G.W. (1972) \"The Reduced Nearest Neighbor Rule\".  IEEE Transactions\n",
      "     on Information Theory, May 1972, 431-433.\n",
      "   - See also: 1988 MLC Proceedings, 54-64.  Cheeseman et al\"s AUTOCLASS II\n",
      "     conceptual clustering system finds 3 classes in the data.\n",
      "   - Many, many more ...\n",
      "\n"
     ]
    }
   ],
   "source": [
    "from sklearn import datasets\n",
    "iris = datasets.load_iris()\n",
    "\n",
    "print(iris['DESCR'])"
   ]
  },
  {
   "cell_type": "markdown",
   "metadata": {},
   "source": [
    "The following operations fill X with the petal width information and y with two labels: 1 if it is Iris-Virginica and 0 else."
   ]
  },
  {
   "cell_type": "code",
   "execution_count": 41,
   "metadata": {
    "collapsed": true
   },
   "outputs": [],
   "source": [
    "X = iris['data'][:,3:] #petal width\n",
    "y = (iris['target'] == 2).astype(np.int)"
   ]
  },
  {
   "cell_type": "code",
   "execution_count": 46,
   "metadata": {},
   "outputs": [
    {
     "data": {
      "text/plain": [
       "<matplotlib.legend.Legend at 0x7febaab210b8>"
      ]
     },
     "execution_count": 46,
     "metadata": {},
     "output_type": "execute_result"
    },
    {
     "data": {
      "image/png": "[encoded data removed]",
      "text/plain": [
       "<matplotlib.figure.Figure at 0x7febaa998da0>"
      ]
     },
     "metadata": {},
     "output_type": "display_data"
    }
   ],
   "source": [
    "from sklearn.linear_model import LogisticRegression\n",
    "\n",
    "log_reg = LogisticRegression()\n",
    "log_reg.fit(X, y)\n",
    "\n",
    "X_new = np.linspace(0,3, 1000).reshape(-1,1)\n",
    "y_proba = log_reg.predict_proba(X_new)\n",
    "plt.plot(X_new, y_proba[:, 1], 'g-', label='Iris-Virginica')\n",
    "plt.plot(X_new, y_proba[:, 0], 'b--', label='Not Iris-Virginica')\n",
    "plt.ylabel('Probability')\n",
    "plt.xlabel('Petal Width (cm)')\n",
    "plt.legend(loc='best')"
   ]
  },
  {
   "cell_type": "markdown",
   "metadata": {},
   "source": [
    "La frontera de decisión en este caso está alrededor de 1.6 cm para el ancho del pétalo. \n",
    "\n",
    "Así como los modelos de regresión lineal, los de regresión logística también se pueden regularizar. El parámetro de regularizaciones para regresión logística es C. Entre mayor sea C, menor regularizado estará el modelo. "
   ]
  },
  {
   "cell_type": "code",
   "execution_count": null,
   "metadata": {
    "collapsed": true
   },
   "outputs": [],
   "source": []
  }
 ],
 "metadata": {
  "kernelspec": {
   "display_name": "Python 3",
   "language": "python",
   "name": "python3"
  },
  "language_info": {
   "codemirror_mode": {
    "name": "ipython",
    "version": 3
   },
   "file_extension": ".py",
   "mimetype": "text/x-python",
   "name": "python",
   "nbconvert_exporter": "python",
   "pygments_lexer": "ipython3",
   "version": "3.5.3"
  }
 },
 "nbformat": 4,
 "nbformat_minor": 2
}
